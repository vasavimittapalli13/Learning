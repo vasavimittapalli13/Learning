{
 "cells": [
  {
   "cell_type": "markdown",
   "id": "8e605c79",
   "metadata": {},
   "source": [
    "### What is Python?\n",
    "\n",
    "\n",
    "- Python is a general purpose, interpreted and high level programming language.\n",
    "- Inveted by Guido Van Rossum, released in 1991.\n",
    "- simple and easy to learn\n",
    "- open source\n"
   ]
  },
  {
   "cell_type": "code",
   "execution_count": 1,
   "id": "94e90680",
   "metadata": {},
   "outputs": [
    {
     "name": "stdout",
     "output_type": "stream",
     "text": [
      "Python 3.11.5\n"
     ]
    }
   ],
   "source": [
    "!python --version"
   ]
  },
  {
   "cell_type": "markdown",
   "id": "f98e1193",
   "metadata": {},
   "source": [
    "### Literals\n",
    "\n",
    "Literals are nothing but data types which conveys information.\n",
    "\n",
    "- Integral values: `int`\n",
    "- decimal values: `float`\n",
    "- boolean values: `true` and `false`\n",
    "- text data: `str`"
   ]
  },
  {
   "cell_type": "code",
   "execution_count": 1,
   "id": "448e66d5",
   "metadata": {},
   "outputs": [
    {
     "data": {
      "text/plain": [
       "8"
      ]
     },
     "execution_count": 1,
     "metadata": {},
     "output_type": "execute_result"
    }
   ],
   "source": [
    "#int \n",
    "\n",
    "8\n"
   ]
  },
  {
   "cell_type": "code",
   "execution_count": 2,
   "id": "b44764c7",
   "metadata": {},
   "outputs": [
    {
     "data": {
      "text/plain": [
       "6"
      ]
     },
     "execution_count": 2,
     "metadata": {},
     "output_type": "execute_result"
    }
   ],
   "source": [
    "6"
   ]
  },
  {
   "cell_type": "code",
   "execution_count": 3,
   "id": "f9dd2312",
   "metadata": {},
   "outputs": [
    {
     "data": {
      "text/plain": [
       "100"
      ]
     },
     "execution_count": 3,
     "metadata": {},
     "output_type": "execute_result"
    }
   ],
   "source": [
    "100"
   ]
  },
  {
   "cell_type": "code",
   "execution_count": 7,
   "id": "9b2179f4",
   "metadata": {},
   "outputs": [
    {
     "data": {
      "text/plain": [
       "int"
      ]
     },
     "execution_count": 7,
     "metadata": {},
     "output_type": "execute_result"
    }
   ],
   "source": [
    "type(100)  #type(): returns the data type of its value"
   ]
  },
  {
   "cell_type": "code",
   "execution_count": 4,
   "id": "a7c41f99",
   "metadata": {},
   "outputs": [
    {
     "data": {
      "text/plain": [
       "2.1"
      ]
     },
     "execution_count": 4,
     "metadata": {},
     "output_type": "execute_result"
    }
   ],
   "source": [
    "# float\n",
    "\n",
    "2.1\n"
   ]
  },
  {
   "cell_type": "code",
   "execution_count": 5,
   "id": "ed0cdac5",
   "metadata": {},
   "outputs": [
    {
     "data": {
      "text/plain": [
       "3.14"
      ]
     },
     "execution_count": 5,
     "metadata": {},
     "output_type": "execute_result"
    }
   ],
   "source": [
    "3.14"
   ]
  },
  {
   "cell_type": "code",
   "execution_count": 6,
   "id": "70fe2959",
   "metadata": {},
   "outputs": [
    {
     "data": {
      "text/plain": [
       "68.3567"
      ]
     },
     "execution_count": 6,
     "metadata": {},
     "output_type": "execute_result"
    }
   ],
   "source": [
    "68.3567"
   ]
  },
  {
   "cell_type": "code",
   "execution_count": 8,
   "id": "18263c9d",
   "metadata": {},
   "outputs": [
    {
     "data": {
      "text/plain": [
       "float"
      ]
     },
     "execution_count": 8,
     "metadata": {},
     "output_type": "execute_result"
    }
   ],
   "source": [
    "type(3.14)"
   ]
  },
  {
   "cell_type": "code",
   "execution_count": 9,
   "id": "817fb5c3",
   "metadata": {},
   "outputs": [
    {
     "data": {
      "text/plain": [
       "True"
      ]
     },
     "execution_count": 9,
     "metadata": {},
     "output_type": "execute_result"
    }
   ],
   "source": [
    "#Boolean\n",
    " \n",
    "True"
   ]
  },
  {
   "cell_type": "code",
   "execution_count": 10,
   "id": "5513d81c",
   "metadata": {},
   "outputs": [
    {
     "data": {
      "text/plain": [
       "False"
      ]
     },
     "execution_count": 10,
     "metadata": {},
     "output_type": "execute_result"
    }
   ],
   "source": [
    "False"
   ]
  },
  {
   "cell_type": "code",
   "execution_count": 11,
   "id": "b34dd7bd",
   "metadata": {},
   "outputs": [
    {
     "data": {
      "text/plain": [
       "bool"
      ]
     },
     "execution_count": 11,
     "metadata": {},
     "output_type": "execute_result"
    }
   ],
   "source": [
    "type(True)"
   ]
  },
  {
   "cell_type": "code",
   "execution_count": 12,
   "id": "91e3162a",
   "metadata": {},
   "outputs": [
    {
     "data": {
      "text/plain": [
       "'a'"
      ]
     },
     "execution_count": 12,
     "metadata": {},
     "output_type": "execute_result"
    }
   ],
   "source": [
    "#str\n",
    "\n",
    "'a'"
   ]
  },
  {
   "cell_type": "code",
   "execution_count": 13,
   "id": "40aae4ff",
   "metadata": {},
   "outputs": [
    {
     "data": {
      "text/plain": [
       "'apple'"
      ]
     },
     "execution_count": 13,
     "metadata": {},
     "output_type": "execute_result"
    }
   ],
   "source": [
    "'apple'"
   ]
  },
  {
   "cell_type": "code",
   "execution_count": 14,
   "id": "b87f1340",
   "metadata": {},
   "outputs": [
    {
     "data": {
      "text/plain": [
       "str"
      ]
     },
     "execution_count": 14,
     "metadata": {},
     "output_type": "execute_result"
    }
   ],
   "source": [
    "type('apple')"
   ]
  },
  {
   "cell_type": "code",
   "execution_count": 15,
   "id": "9f1fa777",
   "metadata": {},
   "outputs": [
    {
     "data": {
      "text/plain": [
       "'vasavi'"
      ]
     },
     "execution_count": 15,
     "metadata": {},
     "output_type": "execute_result"
    }
   ],
   "source": [
    "\"vasavi\""
   ]
  },
  {
   "cell_type": "markdown",
   "id": "60c9c83a",
   "metadata": {},
   "source": [
    "### Variables\n",
    "\n",
    "varaiables are containers to store the literal values."
   ]
  },
  {
   "cell_type": "code",
   "execution_count": 19,
   "id": "3fbcfe5c",
   "metadata": {},
   "outputs": [],
   "source": [
    "a=1\n",
    "\n",
    "# a is a varaiable to store the literal value '1'.\n"
   ]
  },
  {
   "cell_type": "code",
   "execution_count": 17,
   "id": "2bf8f4e6",
   "metadata": {},
   "outputs": [
    {
     "data": {
      "text/plain": [
       "1"
      ]
     },
     "execution_count": 17,
     "metadata": {},
     "output_type": "execute_result"
    }
   ],
   "source": [
    "a"
   ]
  },
  {
   "cell_type": "code",
   "execution_count": 18,
   "id": "b56bf8a6",
   "metadata": {},
   "outputs": [
    {
     "data": {
      "text/plain": [
       "int"
      ]
     },
     "execution_count": 18,
     "metadata": {},
     "output_type": "execute_result"
    }
   ],
   "source": [
    "type(a)"
   ]
  },
  {
   "cell_type": "markdown",
   "id": "074eceb4",
   "metadata": {},
   "source": [
    "Naming conventions for variables:\n",
    "\n",
    "- A Variable name starts with a letter or underscore.\n",
    "- A variable name cannot start with a digit.\n",
    "- A varaiable name can contain alpha numeric characters,underscore and letters.\n",
    "- A variable names are case sensitive name and Name and NAME are different variable names.\n",
    "- A variable name can not contain any keywords.\n",
    "- No spaces included in variable name."
   ]
  },
  {
   "cell_type": "code",
   "execution_count": 22,
   "id": "06d2ca53",
   "metadata": {},
   "outputs": [
    {
     "data": {
      "text/plain": [
       "'vasavi'"
      ]
     },
     "execution_count": 22,
     "metadata": {},
     "output_type": "execute_result"
    }
   ],
   "source": [
    "name='vasavi'\n",
    "name"
   ]
  },
  {
   "cell_type": "code",
   "execution_count": 23,
   "id": "977c494a",
   "metadata": {},
   "outputs": [
    {
     "data": {
      "text/plain": [
       "'Mittapalli'"
      ]
     },
     "execution_count": 23,
     "metadata": {},
     "output_type": "execute_result"
    }
   ],
   "source": [
    "Name='Mittapalli'\n",
    "Name"
   ]
  },
  {
   "cell_type": "code",
   "execution_count": 24,
   "id": "6f798074",
   "metadata": {},
   "outputs": [
    {
     "ename": "SyntaxError",
     "evalue": "invalid decimal literal (2221508990.py, line 1)",
     "output_type": "error",
     "traceback": [
      "\u001b[1;36m  Cell \u001b[1;32mIn[24], line 1\u001b[1;36m\u001b[0m\n\u001b[1;33m    1age=12\u001b[0m\n\u001b[1;37m    ^\u001b[0m\n\u001b[1;31mSyntaxError\u001b[0m\u001b[1;31m:\u001b[0m invalid decimal literal\n"
     ]
    }
   ],
   "source": [
    "1age=12"
   ]
  },
  {
   "cell_type": "code",
   "execution_count": 25,
   "id": "1dae8f40",
   "metadata": {},
   "outputs": [],
   "source": [
    "age=12"
   ]
  },
  {
   "cell_type": "code",
   "execution_count": 26,
   "id": "35725748",
   "metadata": {},
   "outputs": [
    {
     "data": {
      "text/plain": [
       "12"
      ]
     },
     "execution_count": 26,
     "metadata": {},
     "output_type": "execute_result"
    }
   ],
   "source": [
    "age"
   ]
  },
  {
   "cell_type": "code",
   "execution_count": 27,
   "id": "16fc25f0",
   "metadata": {},
   "outputs": [],
   "source": [
    "first_and_last_name='vasavi mittapalli'"
   ]
  },
  {
   "cell_type": "code",
   "execution_count": 28,
   "id": "ca68fb2b",
   "metadata": {},
   "outputs": [
    {
     "ename": "SyntaxError",
     "evalue": "invalid syntax (149656265.py, line 1)",
     "output_type": "error",
     "traceback": [
      "\u001b[1;36m  Cell \u001b[1;32mIn[28], line 1\u001b[1;36m\u001b[0m\n\u001b[1;33m    if='app'\u001b[0m\n\u001b[1;37m      ^\u001b[0m\n\u001b[1;31mSyntaxError\u001b[0m\u001b[1;31m:\u001b[0m invalid syntax\n"
     ]
    }
   ],
   "source": [
    "if='app'"
   ]
  },
  {
   "cell_type": "code",
   "execution_count": 29,
   "id": "a03f7cff",
   "metadata": {},
   "outputs": [
    {
     "ename": "SyntaxError",
     "evalue": "invalid syntax (2813959872.py, line 1)",
     "output_type": "error",
     "traceback": [
      "\u001b[1;36m  Cell \u001b[1;32mIn[29], line 1\u001b[1;36m\u001b[0m\n\u001b[1;33m    phone number=47527900-\u001b[0m\n\u001b[1;37m          ^\u001b[0m\n\u001b[1;31mSyntaxError\u001b[0m\u001b[1;31m:\u001b[0m invalid syntax\n"
     ]
    }
   ],
   "source": [
    "phone number=47527900-"
   ]
  },
  {
   "cell_type": "code",
   "execution_count": 35,
   "id": "bb53f01d",
   "metadata": {},
   "outputs": [
    {
     "name": "stdout",
     "output_type": "stream",
     "text": [
      "True\n"
     ]
    }
   ],
   "source": [
    "#isidentifier() : to check the correct identifier or not\n",
    "\n",
    "print('name'.isidentifier())"
   ]
  },
  {
   "cell_type": "code",
   "execution_count": 36,
   "id": "693a41d7",
   "metadata": {},
   "outputs": [
    {
     "name": "stdout",
     "output_type": "stream",
     "text": [
      "True\n"
     ]
    }
   ],
   "source": [
    "print('Name'.isidentifier())"
   ]
  },
  {
   "cell_type": "code",
   "execution_count": 37,
   "id": "b1c770b5",
   "metadata": {},
   "outputs": [
    {
     "name": "stdout",
     "output_type": "stream",
     "text": [
      "False\n"
     ]
    }
   ],
   "source": [
    "print('1age'.isidentifier())"
   ]
  },
  {
   "cell_type": "code",
   "execution_count": 39,
   "id": "b15ba6a4",
   "metadata": {},
   "outputs": [
    {
     "name": "stdout",
     "output_type": "stream",
     "text": [
      "False\n"
     ]
    }
   ],
   "source": [
    "print('ph number'.isidentifier())"
   ]
  },
  {
   "cell_type": "code",
   "execution_count": 44,
   "id": "83b9b56c",
   "metadata": {},
   "outputs": [
    {
     "ename": "AttributeError",
     "evalue": "type object 'int' has no attribute 'isidentifier'",
     "output_type": "error",
     "traceback": [
      "\u001b[1;31m---------------------------------------------------------------------------\u001b[0m",
      "\u001b[1;31mAttributeError\u001b[0m                            Traceback (most recent call last)",
      "Cell \u001b[1;32mIn[44], line 1\u001b[0m\n\u001b[1;32m----> 1\u001b[0m \u001b[38;5;28mprint\u001b[39m(\u001b[38;5;28mint\u001b[39m\u001b[38;5;241m.\u001b[39misidentifier())\n",
      "\u001b[1;31mAttributeError\u001b[0m: type object 'int' has no attribute 'isidentifier'"
     ]
    }
   ],
   "source": [
    "print(int.isidentifier())"
   ]
  },
  {
   "cell_type": "markdown",
   "id": "40d0fb5c",
   "metadata": {},
   "source": [
    "### Comments\n",
    "\n",
    "As programs get bigger and more complicated, they get more difficult to read. Formal languages are dense, and it is often difficult to look at a piece of code and figure out what it is doing, or why.\n",
    "\n",
    "For this reason, it is a good idea to add notes to your programs to explain in natural language what the program is doing. These notes are called comments, and they are marked with the # symbol\n",
    "\n",
    "- single line comments: #\n",
    "- multi line comments: ''' '''"
   ]
  },
  {
   "cell_type": "code",
   "execution_count": 45,
   "id": "996fa1b4",
   "metadata": {},
   "outputs": [
    {
     "name": "stdout",
     "output_type": "stream",
     "text": [
      "Hi\n"
     ]
    }
   ],
   "source": [
    "#This is a comment\n",
    "print('Hi')"
   ]
  },
  {
   "cell_type": "code",
   "execution_count": 48,
   "id": "4ea95dfb",
   "metadata": {},
   "outputs": [
    {
     "name": "stdout",
     "output_type": "stream",
     "text": [
      "Hello World\n"
     ]
    }
   ],
   "source": [
    "'''Hello, I am vasavi learning a Python Programming.\n",
    "This is day-1 of my leraning.\n",
    "i am so excited to learn.\n",
    "This is my first hello world program'''\n",
    "print('Hello World')"
   ]
  },
  {
   "cell_type": "code",
   "execution_count": 49,
   "id": "abc6ec47",
   "metadata": {},
   "outputs": [],
   "source": [
    "a=1\n",
    "b=2\n",
    "c=3"
   ]
  },
  {
   "cell_type": "code",
   "execution_count": 50,
   "id": "40a63104",
   "metadata": {},
   "outputs": [],
   "source": [
    "a,b,c=1,2,3"
   ]
  },
  {
   "cell_type": "code",
   "execution_count": 51,
   "id": "7f68b70b",
   "metadata": {},
   "outputs": [
    {
     "data": {
      "text/plain": [
       "1"
      ]
     },
     "execution_count": 51,
     "metadata": {},
     "output_type": "execute_result"
    }
   ],
   "source": [
    "a\n"
   ]
  },
  {
   "cell_type": "code",
   "execution_count": 52,
   "id": "2d057106",
   "metadata": {},
   "outputs": [
    {
     "ename": "ValueError",
     "evalue": "not enough values to unpack (expected 3, got 2)",
     "output_type": "error",
     "traceback": [
      "\u001b[1;31m---------------------------------------------------------------------------\u001b[0m",
      "\u001b[1;31mValueError\u001b[0m                                Traceback (most recent call last)",
      "Cell \u001b[1;32mIn[52], line 1\u001b[0m\n\u001b[1;32m----> 1\u001b[0m a,b,c\u001b[38;5;241m=\u001b[39m\u001b[38;5;241m1\u001b[39m,\u001b[38;5;241m2\u001b[39m\n",
      "\u001b[1;31mValueError\u001b[0m: not enough values to unpack (expected 3, got 2)"
     ]
    }
   ],
   "source": [
    "a,b,c=1,2"
   ]
  },
  {
   "cell_type": "code",
   "execution_count": 55,
   "id": "4f8155cc",
   "metadata": {},
   "outputs": [],
   "source": [
    "a=b=c=2"
   ]
  },
  {
   "cell_type": "code",
   "execution_count": 56,
   "id": "1b8bd356",
   "metadata": {},
   "outputs": [
    {
     "data": {
      "text/plain": [
       "2"
      ]
     },
     "execution_count": 56,
     "metadata": {},
     "output_type": "execute_result"
    }
   ],
   "source": [
    "a"
   ]
  },
  {
   "cell_type": "code",
   "execution_count": 57,
   "id": "7e92710d",
   "metadata": {},
   "outputs": [
    {
     "data": {
      "text/plain": [
       "2"
      ]
     },
     "execution_count": 57,
     "metadata": {},
     "output_type": "execute_result"
    }
   ],
   "source": [
    "b"
   ]
  },
  {
   "cell_type": "code",
   "execution_count": 58,
   "id": "fe4cbd99",
   "metadata": {},
   "outputs": [
    {
     "data": {
      "text/plain": [
       "2"
      ]
     },
     "execution_count": 58,
     "metadata": {},
     "output_type": "execute_result"
    }
   ],
   "source": [
    "c"
   ]
  },
  {
   "cell_type": "markdown",
   "id": "cdcf91af",
   "metadata": {},
   "source": [
    "### First Program"
   ]
  },
  {
   "cell_type": "code",
   "execution_count": 59,
   "id": "c832fb2b",
   "metadata": {},
   "outputs": [
    {
     "data": {
      "text/plain": [
       "'Welcome to Day-1 Learning Session'"
      ]
     },
     "execution_count": 59,
     "metadata": {},
     "output_type": "execute_result"
    }
   ],
   "source": [
    "'Welcome to Day-1 Learning Session'"
   ]
  },
  {
   "cell_type": "code",
   "execution_count": 60,
   "id": "9977bf91",
   "metadata": {},
   "outputs": [
    {
     "data": {
      "text/plain": [
       "'Good Morning'"
      ]
     },
     "execution_count": 60,
     "metadata": {},
     "output_type": "execute_result"
    }
   ],
   "source": [
    "'Welcome to Day-1 Learning Session'\n",
    "'Good Morning'"
   ]
  },
  {
   "cell_type": "code",
   "execution_count": 61,
   "id": "0306a7c4",
   "metadata": {},
   "outputs": [
    {
     "name": "stdout",
     "output_type": "stream",
     "text": [
      "Welcome to Day-1 Learning Session\n",
      "good morining\n"
     ]
    }
   ],
   "source": [
    "print('Welcome to Day-1 Learning Session')\n",
    "print('good morining')"
   ]
  },
  {
   "cell_type": "code",
   "execution_count": 62,
   "id": "a1fad3ce",
   "metadata": {},
   "outputs": [
    {
     "name": "stdout",
     "output_type": "stream",
     "text": [
      "Hi\n",
      "Hello\n",
      "welcome\n"
     ]
    }
   ],
   "source": [
    "print('Hi')\n",
    "print('Hello')\n",
    "print('welcome')"
   ]
  },
  {
   "cell_type": "code",
   "execution_count": 63,
   "id": "6a339a24",
   "metadata": {},
   "outputs": [
    {
     "name": "stdout",
     "output_type": "stream",
     "text": [
      "Hi\n",
      "Hello\n",
      "Welcome\n"
     ]
    }
   ],
   "source": [
    "print('Hi\\nHello\\nWelcome')"
   ]
  },
  {
   "cell_type": "code",
   "execution_count": 64,
   "id": "902f8875",
   "metadata": {},
   "outputs": [
    {
     "name": "stdout",
     "output_type": "stream",
     "text": [
      "Hi\n"
     ]
    }
   ],
   "source": [
    "    print('Hi')"
   ]
  },
  {
   "cell_type": "code",
   "execution_count": 65,
   "id": "02a3fe70",
   "metadata": {},
   "outputs": [
    {
     "ename": "IndentationError",
     "evalue": "unexpected indent (2976950025.py, line 2)",
     "output_type": "error",
     "traceback": [
      "\u001b[1;36m  Cell \u001b[1;32mIn[65], line 2\u001b[1;36m\u001b[0m\n\u001b[1;33m    print('Hello')\u001b[0m\n\u001b[1;37m    ^\u001b[0m\n\u001b[1;31mIndentationError\u001b[0m\u001b[1;31m:\u001b[0m unexpected indent\n"
     ]
    }
   ],
   "source": [
    "print('Hi')\n",
    "    print('Hello')"
   ]
  },
  {
   "cell_type": "markdown",
   "id": "5936ecb9",
   "metadata": {},
   "source": [
    "### Keywords\n",
    "\n",
    "\n",
    "- Keywords are pre-defined words or built-in words.\n",
    "- Reserved words in python.\n",
    "- we can't use keywords as variable name, function name or any identifier"
   ]
  },
  {
   "cell_type": "code",
   "execution_count": 68,
   "id": "c5f7b222",
   "metadata": {},
   "outputs": [
    {
     "name": "stdout",
     "output_type": "stream",
     "text": [
      "['False', 'None', 'True', 'and', 'as', 'assert', 'async', 'await', 'break', 'class', 'continue', 'def', 'del', 'elif', 'else', 'except', 'finally', 'for', 'from', 'global', 'if', 'import', 'in', 'is', 'lambda', 'nonlocal', 'not', 'or', 'pass', 'raise', 'return', 'try', 'while', 'with', 'yield']\n"
     ]
    }
   ],
   "source": [
    "import keyword\n",
    "print(keyword.kwlist)"
   ]
  },
  {
   "cell_type": "markdown",
   "id": "b7d0187d",
   "metadata": {},
   "source": [
    "### Type conersion\n",
    "\n",
    "- Implicit: By Itself\n",
    "- Explicit: By User"
   ]
  },
  {
   "cell_type": "code",
   "execution_count": 69,
   "id": "98c533fa",
   "metadata": {},
   "outputs": [
    {
     "data": {
      "text/plain": [
       "int"
      ]
     },
     "execution_count": 69,
     "metadata": {},
     "output_type": "execute_result"
    }
   ],
   "source": [
    "x=10\n",
    "type(x)"
   ]
  },
  {
   "cell_type": "code",
   "execution_count": 70,
   "id": "f4a7a7d1",
   "metadata": {},
   "outputs": [
    {
     "data": {
      "text/plain": [
       "float"
      ]
     },
     "execution_count": 70,
     "metadata": {},
     "output_type": "execute_result"
    }
   ],
   "source": [
    "y=11.6\n",
    "type(x+y)"
   ]
  },
  {
   "cell_type": "code",
   "execution_count": 71,
   "id": "a42249b9",
   "metadata": {},
   "outputs": [
    {
     "data": {
      "text/plain": [
       "int"
      ]
     },
     "execution_count": 71,
     "metadata": {},
     "output_type": "execute_result"
    }
   ],
   "source": [
    "x='24'\n",
    "y=int(x)\n",
    "type(y)"
   ]
  },
  {
   "cell_type": "code",
   "execution_count": 73,
   "id": "f01f9676",
   "metadata": {},
   "outputs": [
    {
     "data": {
      "text/plain": [
       "(2+24j)"
      ]
     },
     "execution_count": 73,
     "metadata": {},
     "output_type": "execute_result"
    }
   ],
   "source": [
    "complex(2,y)"
   ]
  },
  {
   "cell_type": "code",
   "execution_count": 74,
   "id": "c4ed6060",
   "metadata": {},
   "outputs": [
    {
     "data": {
      "text/plain": [
       "20.0"
      ]
     },
     "execution_count": 74,
     "metadata": {},
     "output_type": "execute_result"
    }
   ],
   "source": [
    "float(20)"
   ]
  },
  {
   "cell_type": "code",
   "execution_count": 75,
   "id": "4ebcfd2d",
   "metadata": {},
   "outputs": [
    {
     "data": {
      "text/plain": [
       "34"
      ]
     },
     "execution_count": 75,
     "metadata": {},
     "output_type": "execute_result"
    }
   ],
   "source": [
    "int(34.78)"
   ]
  },
  {
   "cell_type": "code",
   "execution_count": 76,
   "id": "53c730d3",
   "metadata": {},
   "outputs": [
    {
     "data": {
      "text/plain": [
       "'567'"
      ]
     },
     "execution_count": 76,
     "metadata": {},
     "output_type": "execute_result"
    }
   ],
   "source": [
    "str(567)"
   ]
  },
  {
   "cell_type": "markdown",
   "id": "71cd87f0",
   "metadata": {},
   "source": [
    "### Operators\n",
    "\n",
    "- to perform operations using operands.\n",
    "- Expression is a collection of operands and operators.\n",
    "\n"
   ]
  },
  {
   "cell_type": "markdown",
   "id": "62fc17f4",
   "metadata": {},
   "source": [
    "### Arithmetic Operator:\n",
    "\n",
    "'+' is\tused to add two numbers\tsum = a + b\n",
    "\n",
    "'–'\tis used for subtraction\tdifference = a – b\n",
    "\n",
    "'*'\tused to multiply two numbers. If a string and int is multiplied then the string is repeated the int times.\n",
    "\n",
    "'/'\tused to divide two numbers\tdiv = b/a\n",
    "\n",
    "'//' used to divide two numbers return integer value\n",
    "\n",
    "'%'\tmodulus operator, returns the remainder of division\tmod = a%b\n",
    "\n",
    "'**'\texponent operator, return a rasied to the power of b"
   ]
  },
  {
   "cell_type": "code",
   "execution_count": 2,
   "id": "10420cb6",
   "metadata": {},
   "outputs": [
    {
     "name": "stdout",
     "output_type": "stream",
     "text": [
      "14\n",
      "-4\n",
      "45\n",
      "1.8\n",
      "1\n",
      "5\n",
      "1953125\n"
     ]
    }
   ],
   "source": [
    "#create two variables\n",
    "a=5\n",
    "b=9\n",
    "\n",
    "# addition (+) operator\n",
    "print(a+b)\n",
    "\n",
    "# subtraction (-) operator\n",
    "print(a-b)\n",
    "\n",
    "# multiplication (*) operator\n",
    "print(a*b)\n",
    "\n",
    "# division (/) operator\n",
    "print(b/a)\n",
    "\n",
    "# floor division (//) operator\n",
    "print(b//a)\n",
    "\n",
    "# modulus (%) operator\n",
    "print(a%b) # prints the remainder of a/b\n",
    "\n",
    "# exponent (**) operator\n",
    "print(a**b) #prints a^b"
   ]
  },
  {
   "cell_type": "markdown",
   "id": "a12ef3d4",
   "metadata": {},
   "source": [
    "### Assignment Operator:\n",
    "\n",
    "Assign values to a variables"
   ]
  },
  {
   "cell_type": "code",
   "execution_count": 8,
   "id": "8783c0e0",
   "metadata": {},
   "outputs": [
    {
     "name": "stdout",
     "output_type": "stream",
     "text": [
      "8\n",
      "5\n",
      "15\n",
      "5.0\n",
      "1.0\n",
      "1.0\n",
      "1.0\n"
     ]
    }
   ],
   "source": [
    "x=5\n",
    "\n",
    "x+=3 #(x=x+3)\n",
    "print(x)\n",
    "\n",
    "x-=3\n",
    "print(x)\n",
    "\n",
    "x*=3\n",
    "print(x)\n",
    "\n",
    "x/=3\n",
    "print(x)\n",
    "\n",
    "x//=3\n",
    "print(x)\n",
    "\n",
    "x%=3\n",
    "print(x)\n",
    "\n",
    "x**=3\n",
    "print(x)"
   ]
  },
  {
   "cell_type": "markdown",
   "id": "e7b58820",
   "metadata": {},
   "source": [
    "### **Comparison Operators**\n",
    "\n",
    "to compare the two values\n",
    "\n",
    "\n",
    "'=='\treturns True if two operands are equal, otherwise False.\n",
    "\n",
    "'!='\treturns True if two operands are not equal, otherwise False.\n",
    "\n",
    "'>'\treturns True if left operand is greater than the right operand, otherwise False.\n",
    "\n",
    "'<'\treturns True if left operand is smaller than the right operand, otherwise False.\n",
    "\n",
    "'>='\treturns True if left operand is greater than or equal to the right operand, otherwise False.\n",
    "\n",
    "'<='\treturns True if left operand is smaller than or equal to the right operand, otherwise False."
   ]
  },
  {
   "cell_type": "code",
   "execution_count": 9,
   "id": "9e63a066",
   "metadata": {},
   "outputs": [
    {
     "name": "stdout",
     "output_type": "stream",
     "text": [
      "False\n",
      "True\n",
      "False\n",
      "True\n",
      "False\n",
      "True\n"
     ]
    }
   ],
   "source": [
    "# create two variables\n",
    "a=100\n",
    "b=200\n",
    "\n",
    "# (==) operator, checks if two operands are equal or not\n",
    "print(a==b)\n",
    "\n",
    "# (!=) operator, checks if two operands are not equal\n",
    "print(a!=b)\n",
    "\n",
    "# (>) operator, checks left operand is greater than right operand or not\n",
    "print(a>b)\n",
    "\n",
    "# (<) operator, checks left operand is less than right operand or not\n",
    "print(a<b)\n",
    "#(>=) operator, checks left operand is greater than or equal to right operand or not\n",
    "print(a>=b)\n",
    "\n",
    "# (<=) operator, checks left operand is less than or equal to right operand or not\n",
    "print(a<=b)"
   ]
  },
  {
   "cell_type": "markdown",
   "id": "39564ef0",
   "metadata": {},
   "source": [
    "### **Logical Operators**\n",
    "\n",
    "used to combine conditional statements\n",
    "\n",
    "'and' is\tLogical AND Operator - returns True if both statements are True\n",
    "\n",
    "'or' is \tLogical OR Operator - returns Trure either one of the statement is True\n",
    "\n",
    "'not' is\tLogical NOT Operator - opposite (T->F and F->T)\n",
    "\n",
    "not, and, or : prcedence"
   ]
  },
  {
   "cell_type": "code",
   "execution_count": 11,
   "id": "bc90c5da",
   "metadata": {},
   "outputs": [
    {
     "name": "stdout",
     "output_type": "stream",
     "text": [
      "False\n",
      "True\n",
      "True\n"
     ]
    }
   ],
   "source": [
    "x= True\n",
    "y=False\n",
    "\n",
    "print(x and y)\n",
    "print(x or y)\n",
    "print(not y)"
   ]
  },
  {
   "cell_type": "markdown",
   "id": "04ff0706",
   "metadata": {},
   "source": [
    "### Membership Operator:\n",
    "\n",
    "used to test whether a variable or value is found in a sequence(list,tuple,string,set,dictinary)\n",
    "\n",
    "- in : returns True if given value is found in a sequence\n",
    "- not in : returns False if given value is not present in sequence"
   ]
  },
  {
   "cell_type": "code",
   "execution_count": 15,
   "id": "75696bd0",
   "metadata": {},
   "outputs": [
    {
     "data": {
      "text/plain": [
       "True"
      ]
     },
     "execution_count": 15,
     "metadata": {},
     "output_type": "execute_result"
    }
   ],
   "source": [
    "n='vasavi'\n",
    "\n",
    "'i' in n "
   ]
  },
  {
   "cell_type": "code",
   "execution_count": 16,
   "id": "5422fa4b",
   "metadata": {},
   "outputs": [
    {
     "data": {
      "text/plain": [
       "False"
      ]
     },
     "execution_count": 16,
     "metadata": {},
     "output_type": "execute_result"
    }
   ],
   "source": [
    "'a' not in n"
   ]
  },
  {
   "cell_type": "code",
   "execution_count": 17,
   "id": "5d142bf3",
   "metadata": {},
   "outputs": [
    {
     "data": {
      "text/plain": [
       "False"
      ]
     },
     "execution_count": 17,
     "metadata": {},
     "output_type": "execute_result"
    }
   ],
   "source": [
    "'p' in n"
   ]
  },
  {
   "cell_type": "code",
   "execution_count": 18,
   "id": "151134e5",
   "metadata": {},
   "outputs": [
    {
     "data": {
      "text/plain": [
       "True"
      ]
     },
     "execution_count": 18,
     "metadata": {},
     "output_type": "execute_result"
    }
   ],
   "source": [
    "'p' not in n"
   ]
  },
  {
   "cell_type": "markdown",
   "id": "b8266d81",
   "metadata": {},
   "source": [
    "### Identity Operators\n",
    "Identity operators are used to compare the objects, not if they are equal, but if they are actually the same object, with the same memory location:\n",
    "\n",
    "**is**\n",
    "Returns True if both variables are the same object\n",
    "\n",
    "**is not**\n",
    "Returns True if both variables are not the same object\n"
   ]
  },
  {
   "cell_type": "code",
   "execution_count": 19,
   "id": "99ff3dd4",
   "metadata": {},
   "outputs": [],
   "source": [
    "x=1\n",
    "y=1"
   ]
  },
  {
   "cell_type": "code",
   "execution_count": 20,
   "id": "67ccb491",
   "metadata": {},
   "outputs": [
    {
     "data": {
      "text/plain": [
       "True"
      ]
     },
     "execution_count": 20,
     "metadata": {},
     "output_type": "execute_result"
    }
   ],
   "source": [
    "x is y"
   ]
  },
  {
   "cell_type": "code",
   "execution_count": 21,
   "id": "4155ad7d",
   "metadata": {},
   "outputs": [
    {
     "data": {
      "text/plain": [
       "False"
      ]
     },
     "execution_count": 21,
     "metadata": {},
     "output_type": "execute_result"
    }
   ],
   "source": [
    "x is not y"
   ]
  },
  {
   "cell_type": "code",
   "execution_count": 22,
   "id": "cb51ade5",
   "metadata": {},
   "outputs": [],
   "source": [
    "x='app'\n",
    "y='app'"
   ]
  },
  {
   "cell_type": "code",
   "execution_count": 23,
   "id": "e0b4ee29",
   "metadata": {},
   "outputs": [
    {
     "data": {
      "text/plain": [
       "True"
      ]
     },
     "execution_count": 23,
     "metadata": {},
     "output_type": "execute_result"
    }
   ],
   "source": [
    "x is y"
   ]
  },
  {
   "cell_type": "code",
   "execution_count": 27,
   "id": "059ac4e1",
   "metadata": {},
   "outputs": [],
   "source": [
    "x=30"
   ]
  },
  {
   "cell_type": "code",
   "execution_count": 28,
   "id": "dd4929e6",
   "metadata": {},
   "outputs": [
    {
     "data": {
      "text/plain": [
       "True"
      ]
     },
     "execution_count": 28,
     "metadata": {},
     "output_type": "execute_result"
    }
   ],
   "source": [
    "x is not y"
   ]
  },
  {
   "cell_type": "code",
   "execution_count": 29,
   "id": "38a4b88d",
   "metadata": {},
   "outputs": [
    {
     "data": {
      "text/plain": [
       "False"
      ]
     },
     "execution_count": 29,
     "metadata": {},
     "output_type": "execute_result"
    }
   ],
   "source": [
    "x is y"
   ]
  },
  {
   "cell_type": "markdown",
   "id": "1bba3f77",
   "metadata": {},
   "source": [
    "### *`BITWISE OPERATOR`*\n",
    "\n",
    "- Bitwise AND(&)\n",
    "- Bitwise OR(|)\n",
    "- Bitwise NOT(~)\n",
    "- Bitwise XOR(^)\n",
    "- Bitwise Left Shift(<<)\n",
    "- Bitwise Right Shift(>>)"
   ]
  },
  {
   "cell_type": "code",
   "execution_count": 1,
   "id": "1da9e43b",
   "metadata": {},
   "outputs": [
    {
     "data": {
      "text/plain": [
       "0"
      ]
     },
     "execution_count": 1,
     "metadata": {},
     "output_type": "execute_result"
    }
   ],
   "source": [
    "# Bitwise AND\n",
    "\n",
    "10 & 4"
   ]
  },
  {
   "cell_type": "code",
   "execution_count": 5,
   "id": "023a94fc",
   "metadata": {},
   "outputs": [
    {
     "data": {
      "text/plain": [
       "('0b1010', '0b100')"
      ]
     },
     "execution_count": 5,
     "metadata": {},
     "output_type": "execute_result"
    }
   ],
   "source": [
    "bin(10),bin(4)"
   ]
  },
  {
   "cell_type": "code",
   "execution_count": 6,
   "id": "614905ac",
   "metadata": {},
   "outputs": [],
   "source": [
    "# 1 0 1 0 \n",
    "# 0 1 0 0\n",
    "#--------\n",
    "# 0 0 0 0"
   ]
  },
  {
   "cell_type": "code",
   "execution_count": 3,
   "id": "dc1058a8",
   "metadata": {},
   "outputs": [
    {
     "data": {
      "text/plain": [
       "14"
      ]
     },
     "execution_count": 3,
     "metadata": {},
     "output_type": "execute_result"
    }
   ],
   "source": [
    "10|4 "
   ]
  },
  {
   "cell_type": "code",
   "execution_count": 7,
   "id": "a4c55520",
   "metadata": {},
   "outputs": [],
   "source": [
    "# 1 0 1 0 \n",
    "# 0 1 0 0\n",
    "#--------\n",
    "# 1 1 1 0"
   ]
  },
  {
   "cell_type": "code",
   "execution_count": 4,
   "id": "53342ec1",
   "metadata": {},
   "outputs": [
    {
     "data": {
      "text/plain": [
       "-11"
      ]
     },
     "execution_count": 4,
     "metadata": {},
     "output_type": "execute_result"
    }
   ],
   "source": [
    "~10  #-(x+1)= -(10+1)=-11"
   ]
  },
  {
   "cell_type": "code",
   "execution_count": 10,
   "id": "1effee49",
   "metadata": {},
   "outputs": [
    {
     "data": {
      "text/plain": [
       "11"
      ]
     },
     "execution_count": 10,
     "metadata": {},
     "output_type": "execute_result"
    }
   ],
   "source": [
    "10^1"
   ]
  },
  {
   "cell_type": "code",
   "execution_count": null,
   "id": "8698690e",
   "metadata": {},
   "outputs": [],
   "source": [
    "# 1 0 1 0 \n",
    "# 0 0 0 1\n",
    "#--------\n",
    "# 1 0 1 1"
   ]
  },
  {
   "cell_type": "code",
   "execution_count": 12,
   "id": "d18dfae9",
   "metadata": {},
   "outputs": [
    {
     "data": {
      "text/plain": [
       "64"
      ]
     },
     "execution_count": 12,
     "metadata": {},
     "output_type": "execute_result"
    }
   ],
   "source": [
    "16<<2  "
   ]
  },
  {
   "cell_type": "code",
   "execution_count": 13,
   "id": "520354f2",
   "metadata": {},
   "outputs": [
    {
     "data": {
      "text/plain": [
       "6"
      ]
     },
     "execution_count": 13,
     "metadata": {},
     "output_type": "execute_result"
    }
   ],
   "source": [
    "24>>2"
   ]
  },
  {
   "cell_type": "markdown",
   "id": "73de588f",
   "metadata": {},
   "source": [
    "### **Python Operators Precedence**\n",
    "Precedence of these operators means the priority level of operators. This becomes vital when an expression has multiple operators in it.\n",
    "Below is a list of operators indicating the precedence level. It’s in descending order. That means the upper group has more precedence than that of the lower group.\n",
    "\n",
    "Parenthesis – ()\n",
    "\n",
    "Exponentiation – **\n",
    "\n",
    "Compliment, unary plus and minus – ~, +, -\n",
    "\n",
    "Multiply, Divide, modulo – *, /, %\n",
    "\n",
    "Addition and Subtraction – +, -\n",
    "\n",
    "Right and Left Shift – >>, <<\n",
    "\n",
    "Bitwise AND – &\n",
    "\n",
    "Bitwise OR and XOR – |, ^\n",
    "\n",
    "Comparison Operators – ==, !=, >, <, >=, <=\n",
    "\n",
    "Assignment Operator- ="
   ]
  },
  {
   "cell_type": "code",
   "execution_count": 36,
   "id": "a0b0e244",
   "metadata": {},
   "outputs": [
    {
     "name": "stdout",
     "output_type": "stream",
     "text": [
      "1\n"
     ]
    }
   ],
   "source": [
    "print(2**9>>7//8-52+61)"
   ]
  },
  {
   "cell_type": "code",
   "execution_count": 37,
   "id": "120a7872",
   "metadata": {},
   "outputs": [
    {
     "data": {
      "text/plain": [
       "19.0"
      ]
     },
     "execution_count": 37,
     "metadata": {},
     "output_type": "execute_result"
    }
   ],
   "source": [
    "7*3-5+6/2"
   ]
  },
  {
   "cell_type": "markdown",
   "id": "57882ae0",
   "metadata": {},
   "source": [
    "#### operator practice\n"
   ]
  },
  {
   "cell_type": "code",
   "execution_count": 3,
   "id": "8a2261a0",
   "metadata": {},
   "outputs": [
    {
     "data": {
      "text/plain": [
       "6"
      ]
     },
     "execution_count": 3,
     "metadata": {},
     "output_type": "execute_result"
    }
   ],
   "source": [
    "i=1916\n",
    "i%10"
   ]
  },
  {
   "cell_type": "code",
   "execution_count": 4,
   "id": "9cce1773",
   "metadata": {},
   "outputs": [
    {
     "data": {
      "text/plain": [
       "16"
      ]
     },
     "execution_count": 4,
     "metadata": {},
     "output_type": "execute_result"
    }
   ],
   "source": [
    "i%100"
   ]
  },
  {
   "cell_type": "code",
   "execution_count": 5,
   "id": "4fa6d5a8",
   "metadata": {},
   "outputs": [
    {
     "data": {
      "text/plain": [
       "916"
      ]
     },
     "execution_count": 5,
     "metadata": {},
     "output_type": "execute_result"
    }
   ],
   "source": [
    "i%1000"
   ]
  },
  {
   "cell_type": "code",
   "execution_count": 6,
   "id": "d150d07d",
   "metadata": {},
   "outputs": [
    {
     "data": {
      "text/plain": [
       "191"
      ]
     },
     "execution_count": 6,
     "metadata": {},
     "output_type": "execute_result"
    }
   ],
   "source": [
    "i//10"
   ]
  },
  {
   "cell_type": "code",
   "execution_count": 7,
   "id": "fb0d177c",
   "metadata": {},
   "outputs": [
    {
     "data": {
      "text/plain": [
       "19"
      ]
     },
     "execution_count": 7,
     "metadata": {},
     "output_type": "execute_result"
    }
   ],
   "source": [
    "i//100"
   ]
  },
  {
   "cell_type": "code",
   "execution_count": 9,
   "id": "fded9b20",
   "metadata": {},
   "outputs": [
    {
     "data": {
      "text/plain": [
       "1"
      ]
     },
     "execution_count": 9,
     "metadata": {},
     "output_type": "execute_result"
    }
   ],
   "source": [
    "i//1000"
   ]
  },
  {
   "cell_type": "code",
   "execution_count": 13,
   "id": "0bc5bc20",
   "metadata": {},
   "outputs": [
    {
     "data": {
      "text/plain": [
       "2.24"
      ]
     },
     "execution_count": 13,
     "metadata": {},
     "output_type": "execute_result"
    }
   ],
   "source": [
    "round(5**0.5,2)"
   ]
  },
  {
   "cell_type": "code",
   "execution_count": null,
   "id": "f485e94e",
   "metadata": {},
   "outputs": [],
   "source": []
  }
 ],
 "metadata": {
  "kernelspec": {
   "display_name": "Python 3 (ipykernel)",
   "language": "python",
   "name": "python3"
  },
  "language_info": {
   "codemirror_mode": {
    "name": "ipython",
    "version": 3
   },
   "file_extension": ".py",
   "mimetype": "text/x-python",
   "name": "python",
   "nbconvert_exporter": "python",
   "pygments_lexer": "ipython3",
   "version": "3.11.5"
  }
 },
 "nbformat": 4,
 "nbformat_minor": 5
}

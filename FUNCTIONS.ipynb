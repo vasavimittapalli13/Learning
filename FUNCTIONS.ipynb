{
 "cells": [
  {
   "cell_type": "markdown",
   "id": "79b38e00",
   "metadata": {},
   "source": [
    "## What is function?\n",
    "- Function is a group of statements that performs a specific task.\n",
    "- A function is a collection of statements grouped together that performs an operation."
   ]
  },
  {
   "cell_type": "markdown",
   "id": "1fb2f7c1",
   "metadata": {},
   "source": [
    "## Advantages of Functions:\n",
    "\n",
    "- Makes your code more organized and manageable.\n",
    "- Brings resuability there by avoiding code redundency.\n",
    "\n",
    "`Reusability`: once we write a function to perform a task we can use it multiple times without rewritting same code.\n",
    "`Organization of code`: Function helps organizing code by segmenting into functions so that we can breakdown complex problems into smaller tasks.\n",
    "`Manageable`: If we need to change in particular task we just need to update the function without disturbing the remaining code. "
   ]
  },
  {
   "cell_type": "markdown",
   "id": "5b92ab0b",
   "metadata": {},
   "source": [
    "### Some of terminalogies / keywords used in functions \n",
    "\n",
    "- **`def`** - function keyword/function header.\n",
    "- **`function name`** - used to uniquely identify the function. Function naming follows the same check list which we followed for variables.\n",
    "- **`Params/Args`** - used to pass values to a function. Params are optional.\n",
    "- **`Colon (:)`**- marks the end of the function header.\n",
    "- **`Doc String`** - A short description about the function.This is optional.\n",
    "- **`Business logic/Statements`** - One ore more valid Python statements to perform the required task.\n",
    "- **`return`** - This is optional. But this statement will help you to return a value from the function.\n",
    "- **`print`** - To dispaly the value from the function. This is optional.\n",
    "Either print or return need to be included at the end of the fu\n",
    "nction.\n",
    "Make sure proper indentation is given inside the function body."
   ]
  },
  {
   "cell_type": "markdown",
   "id": "4b29ed9f",
   "metadata": {},
   "source": [
    "### Function definition\n",
    "- A function contains a header and body. The header begins with the def keyword, followed by the function’s name and parameters, and ends with a colon.\n",
    "\n",
    "\n",
    "def functionname( ):\n",
    "    \n",
    "    block of code/statements\n",
    "    \n",
    "    \n",
    "    \n",
    "    \n",
    "def functionname(parameters):\n",
    "    \n",
    "    block of code/statements"
   ]
  },
  {
   "cell_type": "code",
   "execution_count": 1,
   "id": "457e43e5",
   "metadata": {},
   "outputs": [],
   "source": [
    "import math "
   ]
  },
  {
   "cell_type": "code",
   "execution_count": 2,
   "id": "dba76740",
   "metadata": {},
   "outputs": [
    {
     "data": {
      "text/plain": [
       "2.23606797749979"
      ]
     },
     "execution_count": 2,
     "metadata": {},
     "output_type": "execute_result"
    }
   ],
   "source": [
    "math.sqrt(5)  #sqrt() is a built-in functions"
   ]
  },
  {
   "cell_type": "code",
   "execution_count": 3,
   "id": "16d0ccd4",
   "metadata": {},
   "outputs": [
    {
     "data": {
      "text/plain": [
       "2.0"
      ]
     },
     "execution_count": 3,
     "metadata": {},
     "output_type": "execute_result"
    }
   ],
   "source": [
    "math.sqrt(4)"
   ]
  },
  {
   "cell_type": "code",
   "execution_count": 4,
   "id": "de712e0b",
   "metadata": {},
   "outputs": [
    {
     "data": {
      "text/plain": [
       "10"
      ]
     },
     "execution_count": 4,
     "metadata": {},
     "output_type": "execute_result"
    }
   ],
   "source": [
    "math.ceil(9.904)"
   ]
  },
  {
   "cell_type": "code",
   "execution_count": 5,
   "id": "88494f1b",
   "metadata": {},
   "outputs": [
    {
     "data": {
      "text/plain": [
       "10"
      ]
     },
     "execution_count": 5,
     "metadata": {},
     "output_type": "execute_result"
    }
   ],
   "source": [
    "math.ceil(9.003)"
   ]
  },
  {
   "cell_type": "code",
   "execution_count": 6,
   "id": "c3710e5e",
   "metadata": {},
   "outputs": [
    {
     "data": {
      "text/plain": [
       "7"
      ]
     },
     "execution_count": 6,
     "metadata": {},
     "output_type": "execute_result"
    }
   ],
   "source": [
    "math.ceil(6.8)"
   ]
  },
  {
   "cell_type": "code",
   "execution_count": 7,
   "id": "289f1a5b",
   "metadata": {},
   "outputs": [
    {
     "data": {
      "text/plain": [
       "6"
      ]
     },
     "execution_count": 7,
     "metadata": {},
     "output_type": "execute_result"
    }
   ],
   "source": [
    "math.floor(6.8)"
   ]
  },
  {
   "cell_type": "code",
   "execution_count": 8,
   "id": "d2ca7dfd",
   "metadata": {},
   "outputs": [
    {
     "data": {
      "text/plain": [
       "9"
      ]
     },
     "execution_count": 8,
     "metadata": {},
     "output_type": "execute_result"
    }
   ],
   "source": [
    "math.floor(9.003)"
   ]
  },
  {
   "cell_type": "code",
   "execution_count": 9,
   "id": "24eb0bfc",
   "metadata": {},
   "outputs": [
    {
     "data": {
      "text/plain": [
       "'greeting'"
      ]
     },
     "execution_count": 9,
     "metadata": {},
     "output_type": "execute_result"
    }
   ],
   "source": [
    "def hello():\n",
    "    return 'greeting'\n",
    "hello()"
   ]
  },
  {
   "cell_type": "code",
   "execution_count": 11,
   "id": "255ea2a9",
   "metadata": {},
   "outputs": [
    {
     "name": "stdout",
     "output_type": "stream",
     "text": [
      "Good Morning\n"
     ]
    }
   ],
   "source": [
    "def hello():\n",
    "    print('Good Morning')\n",
    "hello()"
   ]
  },
  {
   "cell_type": "code",
   "execution_count": 12,
   "id": "72b5042d",
   "metadata": {},
   "outputs": [],
   "source": [
    "def maximum(a, b) :\n",
    "    if a > b :\n",
    "        big = a\n",
    "    else :\n",
    "        big = b\n",
    "    return big"
   ]
  },
  {
   "cell_type": "markdown",
   "id": "61001f6b",
   "metadata": {},
   "source": [
    "In a function's definition, we define what it is to do. To use a function, we have to call or invoke it. The program that calls the function is called a caller. \n",
    "\n",
    "\n",
    "If a function does not return a value, the call to the function must be a statement. For example, the print function does not return a value. The following call is a statement:\n",
    "\n",
    "    print(\"Programming is fun!\")"
   ]
  },
  {
   "cell_type": "code",
   "execution_count": 13,
   "id": "18082dab",
   "metadata": {},
   "outputs": [
    {
     "name": "stdout",
     "output_type": "stream",
     "text": [
      "Good Morning\n"
     ]
    }
   ],
   "source": [
    "hello()"
   ]
  },
  {
   "cell_type": "code",
   "execution_count": 14,
   "id": "22fc7a95",
   "metadata": {},
   "outputs": [
    {
     "ename": "TypeError",
     "evalue": "maximum() missing 2 required positional arguments: 'a' and 'b'",
     "output_type": "error",
     "traceback": [
      "\u001b[1;31m---------------------------------------------------------------------------\u001b[0m",
      "\u001b[1;31mTypeError\u001b[0m                                 Traceback (most recent call last)",
      "Cell \u001b[1;32mIn[14], line 1\u001b[0m\n\u001b[1;32m----> 1\u001b[0m maximum()\n",
      "\u001b[1;31mTypeError\u001b[0m: maximum() missing 2 required positional arguments: 'a' and 'b'"
     ]
    }
   ],
   "source": [
    "maximum()"
   ]
  },
  {
   "cell_type": "code",
   "execution_count": 15,
   "id": "cea84469",
   "metadata": {},
   "outputs": [
    {
     "data": {
      "text/plain": [
       "10"
      ]
     },
     "execution_count": 15,
     "metadata": {},
     "output_type": "execute_result"
    }
   ],
   "source": [
    "maximum(10,8)"
   ]
  },
  {
   "cell_type": "code",
   "execution_count": 19,
   "id": "dc41ffd9",
   "metadata": {},
   "outputs": [
    {
     "name": "stdout",
     "output_type": "stream",
     "text": [
      "Hello Vasavi\n"
     ]
    }
   ],
   "source": [
    "def greet(name):\n",
    "    print(f'Hello {name}')\n",
    "greet('Vasavi')"
   ]
  },
  {
   "cell_type": "code",
   "execution_count": 20,
   "id": "0b7c305d",
   "metadata": {},
   "outputs": [
    {
     "name": "stdout",
     "output_type": "stream",
     "text": [
      "Hello Preethi\n"
     ]
    }
   ],
   "source": [
    "greet('Preethi')"
   ]
  },
  {
   "cell_type": "code",
   "execution_count": 21,
   "id": "a0266666",
   "metadata": {},
   "outputs": [
    {
     "data": {
      "text/plain": [
       "'Hey! Vasavi'"
      ]
     },
     "execution_count": 21,
     "metadata": {},
     "output_type": "execute_result"
    }
   ],
   "source": [
    "def greet_msg(message,name):\n",
    "    return f'{message} {name}'\n",
    "greet_msg('Hey!','Vasavi')"
   ]
  },
  {
   "cell_type": "code",
   "execution_count": 23,
   "id": "ade8e4c1",
   "metadata": {},
   "outputs": [
    {
     "data": {
      "text/plain": [
       "10"
      ]
     },
     "execution_count": 23,
     "metadata": {},
     "output_type": "execute_result"
    }
   ],
   "source": [
    "def maxi(a,b):\n",
    "    if a>b:\n",
    "        return a\n",
    "    else:\n",
    "        return b\n",
    "maxi(10,7)"
   ]
  },
  {
   "cell_type": "code",
   "execution_count": 26,
   "id": "c9f24efb",
   "metadata": {},
   "outputs": [
    {
     "data": {
      "text/plain": [
       "107.60000000000001"
      ]
     },
     "execution_count": 26,
     "metadata": {},
     "output_type": "execute_result"
    }
   ],
   "source": [
    "def celsius_to_fahrenheit(c):\n",
    "    f=(9/5)*c+32\n",
    "    return f\n",
    "celsius_to_fahrenheit(42)"
   ]
  },
  {
   "cell_type": "code",
   "execution_count": 10,
   "id": "84a2e56f",
   "metadata": {},
   "outputs": [
    {
     "data": {
      "text/plain": [
       "True"
      ]
     },
     "execution_count": 10,
     "metadata": {},
     "output_type": "execute_result"
    }
   ],
   "source": [
    "def palindrome(name):\n",
    "    \n",
    "    if name.lower()==name[::-1].lower():\n",
    "        return True\n",
    "    else: \n",
    "        return False\n",
    "palindrome('Malayalam')"
   ]
  },
  {
   "cell_type": "code",
   "execution_count": 14,
   "id": "3710b2e4",
   "metadata": {},
   "outputs": [
    {
     "name": "stdout",
     "output_type": "stream",
     "text": [
      "5\n"
     ]
    },
    {
     "data": {
      "text/plain": [
       "(31.41592653589793, 78.53981633974483)"
      ]
     },
     "execution_count": 14,
     "metadata": {},
     "output_type": "execute_result"
    }
   ],
   "source": [
    "import math\n",
    "def circle(radius):\n",
    "    circumference=2*(math.pi)*r\n",
    "    area=math.pi*r*r\n",
    "    return circumference,area\n",
    "radius=float(input())\n",
    "circle(radius)\n",
    "\n",
    "    "
   ]
  },
  {
   "cell_type": "code",
   "execution_count": 13,
   "id": "a6426f96",
   "metadata": {},
   "outputs": [
    {
     "data": {
      "text/plain": [
       "['__doc__',\n",
       " '__loader__',\n",
       " '__name__',\n",
       " '__package__',\n",
       " '__spec__',\n",
       " 'acos',\n",
       " 'acosh',\n",
       " 'asin',\n",
       " 'asinh',\n",
       " 'atan',\n",
       " 'atan2',\n",
       " 'atanh',\n",
       " 'cbrt',\n",
       " 'ceil',\n",
       " 'comb',\n",
       " 'copysign',\n",
       " 'cos',\n",
       " 'cosh',\n",
       " 'degrees',\n",
       " 'dist',\n",
       " 'e',\n",
       " 'erf',\n",
       " 'erfc',\n",
       " 'exp',\n",
       " 'exp2',\n",
       " 'expm1',\n",
       " 'fabs',\n",
       " 'factorial',\n",
       " 'floor',\n",
       " 'fmod',\n",
       " 'frexp',\n",
       " 'fsum',\n",
       " 'gamma',\n",
       " 'gcd',\n",
       " 'hypot',\n",
       " 'inf',\n",
       " 'isclose',\n",
       " 'isfinite',\n",
       " 'isinf',\n",
       " 'isnan',\n",
       " 'isqrt',\n",
       " 'lcm',\n",
       " 'ldexp',\n",
       " 'lgamma',\n",
       " 'log',\n",
       " 'log10',\n",
       " 'log1p',\n",
       " 'log2',\n",
       " 'modf',\n",
       " 'nan',\n",
       " 'nextafter',\n",
       " 'perm',\n",
       " 'pi',\n",
       " 'pow',\n",
       " 'prod',\n",
       " 'radians',\n",
       " 'remainder',\n",
       " 'sin',\n",
       " 'sinh',\n",
       " 'sqrt',\n",
       " 'tan',\n",
       " 'tanh',\n",
       " 'tau',\n",
       " 'trunc',\n",
       " 'ulp']"
      ]
     },
     "execution_count": 13,
     "metadata": {},
     "output_type": "execute_result"
    }
   ],
   "source": [
    "dir(math)"
   ]
  },
  {
   "cell_type": "markdown",
   "id": "b5a2ffbf",
   "metadata": {},
   "source": [
    "### Functions with/without Return Values\n",
    "- This section shows how to define and invoke a function that does not return a value. Such a function is commonly known as a void function in programming terminology"
   ]
  },
  {
   "cell_type": "code",
   "execution_count": 15,
   "id": "8c7ddb99",
   "metadata": {},
   "outputs": [
    {
     "data": {
      "text/plain": [
       "20"
      ]
     },
     "execution_count": 15,
     "metadata": {},
     "output_type": "execute_result"
    }
   ],
   "source": [
    "def maximum(a, b):\n",
    "    if a > b :\n",
    "        return a\n",
    "    else :\n",
    "        return b\n",
    "    \n",
    "maximum(10, 20 )"
   ]
  },
  {
   "cell_type": "code",
   "execution_count": 16,
   "id": "7adc5fb1",
   "metadata": {},
   "outputs": [
    {
     "name": "stdout",
     "output_type": "stream",
     "text": [
      "The maximum is  20\n"
     ]
    }
   ],
   "source": [
    "def maximum(a, b):\n",
    "    if a > b :\n",
    "        big = a\n",
    "    else :\n",
    "        big = b\n",
    "        \n",
    "    print('The maximum is ', big)\n",
    "    \n",
    "maximum(10,20)"
   ]
  },
  {
   "cell_type": "markdown",
   "id": "3f890581",
   "metadata": {},
   "source": [
    "\\\n",
    "Technically, every function in Python returns a value whether you use return or not. If a function does not return a value, by default, it returns a special value `None`. For this reason, a function that does not return a value is also called a None function. The None value can be assigned to a variable to indicate that the variable does not reference any object. For example, if you run the following program, you will see the output is None, because the sum function does not have a return statement. By default, it returns None."
   ]
  },
  {
   "cell_type": "code",
   "execution_count": 19,
   "id": "a418fe83",
   "metadata": {},
   "outputs": [],
   "source": [
    "def sum1(num1, num2):\n",
    "    tot = num1 + num2\n",
    "    return None\n",
    "\n",
    "sum1(1,2)"
   ]
  },
  {
   "cell_type": "code",
   "execution_count": 21,
   "id": "2344d3b3",
   "metadata": {},
   "outputs": [
    {
     "name": "stdout",
     "output_type": "stream",
     "text": [
      "None\n"
     ]
    }
   ],
   "source": [
    "print(sum1(1,2))"
   ]
  },
  {
   "cell_type": "markdown",
   "id": "9776d924",
   "metadata": {},
   "source": [
    "## Positional and Keyword Arguments\n",
    "\n",
    "The power of a function is its ability to work with parameters. When calling a function, you\n",
    "need to pass arguments to parameters. There are two kinds of arguments: *positional arguments*\n",
    "and *keyword arguments*. \n",
    "\n",
    "Using **positional arguments** requires that the arguments be passed in the same order as their respective parameters in the function header. The arguments must match the parameters in order, number, and compatible type, as defined in the function header.\n",
    "\n",
    "You can also call a function using **keyword arguments**, passing each argument in the form \n",
    "`name = value`. The arguments can appear in any order using keyword arguments."
   ]
  },
  {
   "cell_type": "code",
   "execution_count": 30,
   "id": "35bc2931",
   "metadata": {},
   "outputs": [
    {
     "data": {
      "text/plain": [
       "'HelloMorningHelloMorningHelloMorning'"
      ]
     },
     "execution_count": 30,
     "metadata": {},
     "output_type": "execute_result"
    }
   ],
   "source": [
    "def function(s1,s2,n):\n",
    "    res=(s1+s2)*n\n",
    "    return res\n",
    "function('Hello','Morning',3)"
   ]
  },
  {
   "cell_type": "code",
   "execution_count": 31,
   "id": "594e85e2",
   "metadata": {},
   "outputs": [
    {
     "ename": "TypeError",
     "evalue": "can only concatenate str (not \"int\") to str",
     "output_type": "error",
     "traceback": [
      "\u001b[1;31m---------------------------------------------------------------------------\u001b[0m",
      "\u001b[1;31mTypeError\u001b[0m                                 Traceback (most recent call last)",
      "Cell \u001b[1;32mIn[31], line 1\u001b[0m\n\u001b[1;32m----> 1\u001b[0m function(\u001b[38;5;124m'\u001b[39m\u001b[38;5;124mHello\u001b[39m\u001b[38;5;124m'\u001b[39m,\u001b[38;5;241m3\u001b[39m,\u001b[38;5;124m'\u001b[39m\u001b[38;5;124mMorning\u001b[39m\u001b[38;5;124m'\u001b[39m)\n",
      "Cell \u001b[1;32mIn[30], line 2\u001b[0m, in \u001b[0;36mfunction\u001b[1;34m(s1, s2, n)\u001b[0m\n\u001b[0;32m      1\u001b[0m \u001b[38;5;28;01mdef\u001b[39;00m \u001b[38;5;21mfunction\u001b[39m(s1,s2,n):\n\u001b[1;32m----> 2\u001b[0m     res\u001b[38;5;241m=\u001b[39m(s1\u001b[38;5;241m+\u001b[39ms2)\u001b[38;5;241m*\u001b[39mn\n\u001b[0;32m      3\u001b[0m     \u001b[38;5;28;01mreturn\u001b[39;00m res\n",
      "\u001b[1;31mTypeError\u001b[0m: can only concatenate str (not \"int\") to str"
     ]
    }
   ],
   "source": [
    "function('Hello',3,'Morning')"
   ]
  },
  {
   "cell_type": "code",
   "execution_count": 32,
   "id": "d054303f",
   "metadata": {},
   "outputs": [
    {
     "data": {
      "text/plain": [
       "'HelloMorningHelloMorningHelloMorning'"
      ]
     },
     "execution_count": 32,
     "metadata": {},
     "output_type": "execute_result"
    }
   ],
   "source": [
    "function(s1='Hello',n=3,s2='Morning')"
   ]
  },
  {
   "cell_type": "markdown",
   "id": "14feebbd",
   "metadata": {},
   "source": [
    "It is possible to mix positional arguments with keyword arguments, but the positional arguments cannot appear after any keyword arguments."
   ]
  },
  {
   "cell_type": "code",
   "execution_count": 34,
   "id": "4f4c92d6",
   "metadata": {},
   "outputs": [
    {
     "ename": "TypeError",
     "evalue": "num() missing 1 required positional argument: 'a'",
     "output_type": "error",
     "traceback": [
      "\u001b[1;31m---------------------------------------------------------------------------\u001b[0m",
      "\u001b[1;31mTypeError\u001b[0m                                 Traceback (most recent call last)",
      "Cell \u001b[1;32mIn[34], line 7\u001b[0m\n\u001b[0;32m      4\u001b[0m     \u001b[38;5;28;01melse\u001b[39;00m :\n\u001b[0;32m      5\u001b[0m         \u001b[38;5;28;01mreturn\u001b[39;00m b\n\u001b[1;32m----> 7\u001b[0m num()\n",
      "\u001b[1;31mTypeError\u001b[0m: num() missing 1 required positional argument: 'a'"
     ]
    }
   ],
   "source": [
    "def num(a, b=5):\n",
    "    if a > b :\n",
    "        return a\n",
    "    else :\n",
    "        return b\n",
    "    \n",
    "num()"
   ]
  },
  {
   "cell_type": "code",
   "execution_count": 35,
   "id": "2007c69f",
   "metadata": {},
   "outputs": [
    {
     "data": {
      "text/plain": [
       "8"
      ]
     },
     "execution_count": 35,
     "metadata": {},
     "output_type": "execute_result"
    }
   ],
   "source": [
    "num(8)"
   ]
  },
  {
   "cell_type": "code",
   "execution_count": 36,
   "id": "84195501",
   "metadata": {},
   "outputs": [
    {
     "data": {
      "text/plain": [
       "5"
      ]
     },
     "execution_count": 36,
     "metadata": {},
     "output_type": "execute_result"
    }
   ],
   "source": [
    "num(1)"
   ]
  },
  {
   "cell_type": "code",
   "execution_count": 38,
   "id": "b852e258",
   "metadata": {},
   "outputs": [
    {
     "data": {
      "text/plain": [
       "80"
      ]
     },
     "execution_count": 38,
     "metadata": {},
     "output_type": "execute_result"
    }
   ],
   "source": [
    "#sum of squares in a given list\n",
    "\n",
    "def square(l):\n",
    "    sum=0\n",
    "    for i in l:\n",
    "        sum=sum+i\n",
    "    return sum\n",
    "square([1,7,5,0,63,4])"
   ]
  },
  {
   "cell_type": "code",
   "execution_count": 39,
   "id": "1e76891b",
   "metadata": {},
   "outputs": [
    {
     "name": "stdout",
     "output_type": "stream",
     "text": [
      "Writing mymaths.py\n"
     ]
    }
   ],
   "source": [
    "%%writefile mymaths.py\n",
    "def add(x,y):\n",
    "    return x+y\n",
    "def subtract(x,y):\n",
    "    return x-y\n",
    "def multiply(x,y):\n",
    "    return x*y"
   ]
  },
  {
   "cell_type": "markdown",
   "id": "c03029e8",
   "metadata": {},
   "source": [
    "### Lambda function\n",
    "- Lambda function is used to create an anonymous function (i.e, an inline function without a name) used for a short calculation"
   ]
  },
  {
   "cell_type": "markdown",
   "id": "39203d08",
   "metadata": {},
   "source": [
    "### Rules to create Lambda function\n",
    "- lambda can take any number of parameters (arguments)\n",
    "- instead of def, we use lambda. No paranthesis required\n",
    "- colon separates parameters and expression.\n",
    "- no need of print/return keyword\n",
    "- parameters/arguments  is optional"
   ]
  },
  {
   "cell_type": "code",
   "execution_count": 40,
   "id": "fb3af112",
   "metadata": {},
   "outputs": [
    {
     "data": {
      "text/plain": [
       "16"
      ]
     },
     "execution_count": 40,
     "metadata": {},
     "output_type": "execute_result"
    }
   ],
   "source": [
    "a=lambda x:x+8\n",
    "a(8)"
   ]
  },
  {
   "cell_type": "code",
   "execution_count": 41,
   "id": "77b80a75",
   "metadata": {},
   "outputs": [
    {
     "data": {
      "text/plain": [
       "'Hello Programmers'"
      ]
     },
     "execution_count": 41,
     "metadata": {},
     "output_type": "execute_result"
    }
   ],
   "source": [
    "y=lambda :'Hello Programmers'\n",
    "y()"
   ]
  },
  {
   "cell_type": "code",
   "execution_count": 42,
   "id": "0a2a1592",
   "metadata": {},
   "outputs": [
    {
     "data": {
      "text/plain": [
       "45"
      ]
     },
     "execution_count": 42,
     "metadata": {},
     "output_type": "execute_result"
    }
   ],
   "source": [
    "z=lambda x,y:x*y\n",
    "z(5,9)"
   ]
  },
  {
   "cell_type": "code",
   "execution_count": 43,
   "id": "5c263a24",
   "metadata": {},
   "outputs": [
    {
     "data": {
      "text/plain": [
       "'even'"
      ]
     },
     "execution_count": 43,
     "metadata": {},
     "output_type": "execute_result"
    }
   ],
   "source": [
    "n=lambda b:'even' if b%2==0 else 'odd'\n",
    "n(6)"
   ]
  },
  {
   "cell_type": "markdown",
   "id": "8c0ba72f",
   "metadata": {},
   "source": [
    "##  The Scope of Variables\n",
    "##### Local and global variables\n",
    "\n",
    "The scope of a variable is the part of the program where the variable can be referenced. A variable created inside a function is referred to as a local variable. Local variables can only be accessed within a function. The scope of a local variable starts from its creation and continues to the end of the function that contains the variable.\n",
    "\n",
    "In Python, we can also use global variables. They are created outside all functions and are accessible to all functions in their scope.\n"
   ]
  },
  {
   "cell_type": "code",
   "execution_count": 1,
   "id": "e1722e6c",
   "metadata": {},
   "outputs": [
    {
     "name": "stdout",
     "output_type": "stream",
     "text": [
      "value of y Inside function 1:\n"
     ]
    },
    {
     "ename": "NameError",
     "evalue": "name 'y' is not defined",
     "output_type": "error",
     "traceback": [
      "\u001b[1;31m---------------------------------------------------------------------------\u001b[0m",
      "\u001b[1;31mNameError\u001b[0m                                 Traceback (most recent call last)",
      "Cell \u001b[1;32mIn[1], line 5\u001b[0m\n\u001b[0;32m      3\u001b[0m     \u001b[38;5;28mprint\u001b[39m(\u001b[38;5;124mf\u001b[39m\u001b[38;5;124m'\u001b[39m\u001b[38;5;124mvalue of y Inside function \u001b[39m\u001b[38;5;132;01m{\u001b[39;00my\u001b[38;5;132;01m}\u001b[39;00m\u001b[38;5;124m:\u001b[39m\u001b[38;5;124m'\u001b[39m)\n\u001b[0;32m      4\u001b[0m fn1()\n\u001b[1;32m----> 5\u001b[0m \u001b[38;5;28mprint\u001b[39m(\u001b[38;5;124mf\u001b[39m\u001b[38;5;124m'\u001b[39m\u001b[38;5;124mValue of y outside function \u001b[39m\u001b[38;5;132;01m{\u001b[39;00my\u001b[38;5;132;01m}\u001b[39;00m\u001b[38;5;124m:\u001b[39m\u001b[38;5;124m'\u001b[39m)\n",
      "\u001b[1;31mNameError\u001b[0m: name 'y' is not defined"
     ]
    }
   ],
   "source": [
    "def fn1():\n",
    "    y=1\n",
    "    print(f'value of y Inside function {y}:')\n",
    "fn1()\n",
    "print(f'Value of y outside function {y}:')"
   ]
  },
  {
   "cell_type": "code",
   "execution_count": 3,
   "id": "660212be",
   "metadata": {},
   "outputs": [
    {
     "name": "stdout",
     "output_type": "stream",
     "text": [
      "value of y Inside function 1:\n",
      "Value of y outside function 4:\n"
     ]
    }
   ],
   "source": [
    "y=4 #global variable\n",
    "def fn1():\n",
    "    y=1 #local variable\n",
    "    print(f'value of y Inside function {y}:')\n",
    "fn1()\n",
    "print(f'Value of y outside function {y}:')"
   ]
  },
  {
   "cell_type": "code",
   "execution_count": 4,
   "id": "af930028",
   "metadata": {},
   "outputs": [
    {
     "name": "stdout",
     "output_type": "stream",
     "text": [
      "2\n",
      "7\n",
      "7\n"
     ]
    }
   ],
   "source": [
    "p=1\n",
    "def fun2():\n",
    "    global p\n",
    "    p=p+1\n",
    "    print(p)\n",
    "def fun3():\n",
    "    global p\n",
    "    p=p+3\n",
    "    print(p)\n",
    "fun2()\n",
    "p=p+2\n",
    "fun3()\n",
    "print(p)"
   ]
  },
  {
   "cell_type": "code",
   "execution_count": 7,
   "id": "c9678ebc",
   "metadata": {},
   "outputs": [
    {
     "name": "stdout",
     "output_type": "stream",
     "text": [
      "2\n",
      "7\n",
      "7\n"
     ]
    }
   ],
   "source": [
    "p=1\n",
    "def fun2():\n",
    "    global p\n",
    "    p=p+1\n",
    "    print(p)\n",
    "def fun3():\n",
    "   # global p\n",
    "    p=p+3\n",
    "    print(p)\n",
    "fun2()\n",
    "p=p+2\n",
    "fun3()\n",
    "print(p)"
   ]
  },
  {
   "cell_type": "code",
   "execution_count": 8,
   "id": "871032ab",
   "metadata": {},
   "outputs": [
    {
     "name": "stdout",
     "output_type": "stream",
     "text": [
      "2\n",
      "5\n",
      "7\n"
     ]
    }
   ],
   "source": [
    "p=1\n",
    "def fun2():\n",
    "    global p\n",
    "    p=p+1\n",
    "    print(p)\n",
    "def fun3():\n",
    "    global p\n",
    "    p=p+3\n",
    "    print(p)\n",
    "fun2()\n",
    "#p=p+2\n",
    "fun3()\n",
    "p=p+2\n",
    "print(p)"
   ]
  },
  {
   "cell_type": "code",
   "execution_count": 30,
   "id": "d675126c",
   "metadata": {},
   "outputs": [
    {
     "data": {
      "text/plain": [
       "True"
      ]
     },
     "execution_count": 30,
     "metadata": {},
     "output_type": "execute_result"
    }
   ],
   "source": [
    "def armstrong(num):\n",
    "    l=len(str(num))\n",
    "    s=sum( int(i)**l for i in str(num))\n",
    "    return s==num\n",
    "armstrong(153)"
   ]
  },
  {
   "cell_type": "code",
   "execution_count": 32,
   "id": "da08bb7b",
   "metadata": {},
   "outputs": [
    {
     "name": "stdout",
     "output_type": "stream",
     "text": [
      "Enter principle:10000\n",
      "Enter annual rate:10\n",
      "Enter time:2\n"
     ]
    },
    {
     "data": {
      "text/plain": [
       "1210000"
      ]
     },
     "execution_count": 32,
     "metadata": {},
     "output_type": "execute_result"
    }
   ],
   "source": [
    "def compound_interest(p,r,t):\n",
    "    return p*(1+r)**t\n",
    "p=int(input('Enter principle:'))\n",
    "r=int(input('Enter annual rate:'))\n",
    "t=int(input('Enter time:'))\n",
    "compound_interest(p,r,t)"
   ]
  },
  {
   "cell_type": "markdown",
   "id": "d1fe1f0c",
   "metadata": {},
   "source": [
    "### zip function\n",
    "- zip() is an aggregator, meaning it aggregates two or more iterables or sequences. The individual items of the iterables(list,tuple,string) are combined to form tuples. The zip() function stops whenever the shortest of the variables is exhausted."
   ]
  },
  {
   "cell_type": "code",
   "execution_count": 33,
   "id": "ffcf16eb",
   "metadata": {},
   "outputs": [
    {
     "name": "stdout",
     "output_type": "stream",
     "text": [
      "The ziplist is :   [('a', 'A'), ('b', 'B'), ('c', 'C')]\n",
      "('a', 'b', 'c')\n",
      "('A', 'B', 'C')\n"
     ]
    }
   ],
   "source": [
    "small = ['a','b','c']\n",
    "capital = ['A','B','C']\n",
    "\n",
    "ziplist = list(zip(small, capital))\n",
    "print('The ziplist is :  ', ziplist)\n",
    "\n",
    "l1, l2 = zip(*ziplist)  # to unzip, use * before ziplist in zip()\n",
    "print(l1)\n",
    "print(l2)"
   ]
  },
  {
   "cell_type": "markdown",
   "id": "b1044367",
   "metadata": {},
   "source": [
    "### Map function\n",
    "\n",
    "- map() function takes a function and a sequence as its arguments. It returns iterator(some kind of sequence over which you can iterate one by one) on which the function is applied.\n",
    "\n",
    "Syntax :\n",
    "\n",
    "    map(functionname, sequence)\n",
    "\n",
    "\n",
    "- It takes two arguments i.e.,  (i) function and (ii) sequence iterable\n",
    "\n",
    "\n",
    "- The first agument is the name of the function and the second argument is a sequence iterable (eg : list, tuple, string)\n",
    "\n",
    "\n",
    "- map( ) applies the function to all the elements of the sequence. It returns a new iterable with the elements changed by the function."
   ]
  },
  {
   "cell_type": "code",
   "execution_count": 37,
   "id": "0564477e",
   "metadata": {},
   "outputs": [
    {
     "name": "stdout",
     "output_type": "stream",
     "text": [
      "[4, 10, 12, 6, 16]\n"
     ]
    }
   ],
   "source": [
    "l1=[2,5,6,3,8]\n",
    "a=map(lambda x:x*2, l1)\n",
    "print(list(a))"
   ]
  },
  {
   "cell_type": "markdown",
   "id": "dacfc05e",
   "metadata": {},
   "source": [
    "### Filter function\n",
    "\n",
    "- filter() function applies the predicate (condition) on sequence. If the predicate returns True, the value passes the test and is added to a filter object. Otherwise, the value is dropped from consideration.\n",
    "\n",
    "Syntax :\n",
    "     filter(functionname, sequence)\n",
    "     \n",
    "- filter( ) offers a convienient way to filter out all the elements of an sequence/iterable for which the function returns True.\n",
    "\n",
    "\n",
    "- This function will be applied to every element of the sequence/iterable , it returns or filters the elements for the output only if the elements satisfy the condition given in the function."
   ]
  },
  {
   "cell_type": "code",
   "execution_count": 2,
   "id": "fc096af3",
   "metadata": {},
   "outputs": [
    {
     "name": "stdout",
     "output_type": "stream",
     "text": [
      "[1, 5, 7, 3, 9, 5]\n"
     ]
    }
   ],
   "source": [
    "l=[1,5,7,3,9,5]\n",
    "a=filter(lambda x:x*2,l)\n",
    "\n",
    "print(list(a))"
   ]
  },
  {
   "cell_type": "markdown",
   "id": "16fd8fa8",
   "metadata": {},
   "source": [
    "###  Reduce function\n",
    "- reduce() function from functools module is used to apply a function repeatedly to accumulate a single data value. A summation is a good example of this process. The first value is added to the second value, then that sum is added to third value, and so on, until the sum of all the values is produced."
   ]
  },
  {
   "cell_type": "code",
   "execution_count": 43,
   "id": "a75a61f2",
   "metadata": {},
   "outputs": [
    {
     "name": "stdout",
     "output_type": "stream",
     "text": [
      "41\n"
     ]
    }
   ],
   "source": [
    "from functools import reduce\n",
    "\n",
    "l1=[2,12,3,9,15]\n",
    "r=reduce(lambda x,y: x+y, l1)\n",
    "print(r)"
   ]
  },
  {
   "cell_type": "code",
   "execution_count": 44,
   "id": "7958c7f5",
   "metadata": {},
   "outputs": [],
   "source": [
    "# map function applies a function to every item in iterable\n",
    "# filter function removes items which are returning false and returns true\n",
    "# reduce function applies every item and previous output"
   ]
  },
  {
   "cell_type": "code",
   "execution_count": 66,
   "id": "7532ebdb",
   "metadata": {},
   "outputs": [
    {
     "name": "stdout",
     "output_type": "stream",
     "text": [
      "[2, 4, 6, 8, 10]\n",
      "[4, 16, 36, 64, 100]\n",
      "220\n"
     ]
    }
   ],
   "source": [
    "from functools import reduce \n",
    "l=[1,2,3,4,5,6,7,8,9,10]\n",
    "even = list(filter(lambda x:x%2==0,l))\n",
    "print(even)\n",
    "square=list(map(lambda x:x**2,even))\n",
    "print(square)\n",
    "sum=reduce(lambda x,y:x+y,square)\n",
    "print(sum)"
   ]
  },
  {
   "cell_type": "markdown",
   "id": "3dc804f2",
   "metadata": {},
   "source": [
    "` *args and **kwargs`\n",
    "- *args - when youhave no idea about how many arguments you will be receiving as an input for the function\n",
    "- **kwargs - we give keyword arguments which is executed in dictionary format"
   ]
  },
  {
   "cell_type": "code",
   "execution_count": 1,
   "id": "c0a96229",
   "metadata": {},
   "outputs": [
    {
     "data": {
      "text/plain": [
       "30"
      ]
     },
     "execution_count": 1,
     "metadata": {},
     "output_type": "execute_result"
    }
   ],
   "source": [
    "def add(x1,x2):\n",
    "    x3=x1+x2\n",
    "    return x3\n",
    "add(10,20)"
   ]
  },
  {
   "cell_type": "code",
   "execution_count": 2,
   "id": "dd406c7e",
   "metadata": {},
   "outputs": [
    {
     "data": {
      "text/plain": [
       "(3, 4, 5, 6, 8, 7, 8)"
      ]
     },
     "execution_count": 2,
     "metadata": {},
     "output_type": "execute_result"
    }
   ],
   "source": [
    "def fname(a,b,*c):\n",
    "    return c\n",
    "fname(1,2,3,4,5,6,8,7,8,)"
   ]
  },
  {
   "cell_type": "code",
   "execution_count": 3,
   "id": "0686703f",
   "metadata": {},
   "outputs": [],
   "source": [
    "x,*y,z=1,2,3,4,5,6"
   ]
  },
  {
   "cell_type": "code",
   "execution_count": 4,
   "id": "0a923e94",
   "metadata": {},
   "outputs": [
    {
     "data": {
      "text/plain": [
       "1"
      ]
     },
     "execution_count": 4,
     "metadata": {},
     "output_type": "execute_result"
    }
   ],
   "source": [
    "x"
   ]
  },
  {
   "cell_type": "code",
   "execution_count": 5,
   "id": "74326047",
   "metadata": {},
   "outputs": [
    {
     "data": {
      "text/plain": [
       "[2, 3, 4, 5]"
      ]
     },
     "execution_count": 5,
     "metadata": {},
     "output_type": "execute_result"
    }
   ],
   "source": [
    "y"
   ]
  },
  {
   "cell_type": "code",
   "execution_count": 6,
   "id": "4e02d202",
   "metadata": {},
   "outputs": [
    {
     "data": {
      "text/plain": [
       "6"
      ]
     },
     "execution_count": 6,
     "metadata": {},
     "output_type": "execute_result"
    }
   ],
   "source": [
    "z"
   ]
  },
  {
   "cell_type": "code",
   "execution_count": 7,
   "id": "e62b2a0d",
   "metadata": {},
   "outputs": [
    {
     "name": "stdout",
     "output_type": "stream",
     "text": [
      "{'a': 1, 'b': 2, 'c': 'Hi', 'd': 77.5}\n",
      "dict_keys(['a', 'b', 'c', 'd'])\n",
      "dict_values([1, 2, 'Hi', 77.5])\n"
     ]
    }
   ],
   "source": [
    "def f3(**kwargs):\n",
    "    print(kwargs)\n",
    "    print(kwargs.keys())\n",
    "    print(kwargs.values())\n",
    "\n",
    "f3(a = 1, b = 2, c = 'Hi', d = 77.5)"
   ]
  },
  {
   "cell_type": "markdown",
   "id": "7d77524d",
   "metadata": {},
   "source": [
    "### Recursion\n",
    "\n",
    "Recursion means calling a function in terms of itself. All recursive algorithms have these characteristics:\n",
    "\n",
    "1. A recursive algorithm must call itself, recursively.\n",
    "2. A recursive algorithm must have a base case. A base case occurs when the problem after repeated calls to the recursive function, becomes so small that it can be solved directly.\n",
    "3. A recursive algorithm after each call to the recursive function, must move towards the base case. So, in a well-designed recursive algorithm, after each iteration, the problem must become smaller."
   ]
  },
  {
   "cell_type": "code",
   "execution_count": 3,
   "id": "dd2bf71b",
   "metadata": {},
   "outputs": [
    {
     "data": {
      "text/plain": [
       "6"
      ]
     },
     "execution_count": 3,
     "metadata": {},
     "output_type": "execute_result"
    }
   ],
   "source": [
    "def factorial(num):\n",
    "    if num == 1 :\n",
    "        return 1\n",
    "    else : \n",
    "        return num * factorial(num-1)\n",
    "\n",
    "factorial(3)"
   ]
  },
  {
   "cell_type": "markdown",
   "id": "327afd77",
   "metadata": {},
   "source": [
    "How the recursive function is working step by step ?\n",
    "\n",
    "factorial(3)          # 1st call with 3\n",
    "\n",
    "3 * factorial(2)      # 2nd call with 2\n",
    "\n",
    "3 * 2 * factorial(1)  # 3rd call with 1 (The recursion ends when the number reduces to 1 which is called base case )\n",
    "\n",
    "\n",
    "\n",
    "3 * 2 * 1    # return from 3rd call\n",
    "\n",
    "3 * 2        # return from 2nd call\n",
    "\n",
    "6            # return from 1st call"
   ]
  },
  {
   "cell_type": "markdown",
   "id": "e30701eb",
   "metadata": {},
   "source": [
    "### List Comprehensions\n",
    "\n",
    "A common use of a for loop is to inspect each item in a sequence and build a new list by appending the results of an expression computed on some or all of the items inspected. The expression form, called a list comprehension, lets you code this common idiom concisely and directly. Since a list comprehension is an expression (rather than a block of statements), you can use it directly wherever you need an expression (e.g., as an actual argument in a function call, in a return statement, or as a subexpression for some other expression).\n",
    "\n",
    "In simple words, list comprehension is a quick construction of lists."
   ]
  },
  {
   "cell_type": "markdown",
   "id": "34cf5a0e",
   "metadata": {},
   "source": [
    "### [expression for item in iterable]"
   ]
  },
  {
   "cell_type": "code",
   "execution_count": 4,
   "id": "66dd9dd2",
   "metadata": {},
   "outputs": [
    {
     "name": "stdout",
     "output_type": "stream",
     "text": [
      "[4, 9, 16, 25]\n"
     ]
    }
   ],
   "source": [
    "l=[2,3,4,5]\n",
    "sq=[]\n",
    "for i in l:\n",
    "    s=i*i\n",
    "    sq.append(s)\n",
    "print(sq)\n",
    "    "
   ]
  },
  {
   "cell_type": "code",
   "execution_count": 5,
   "id": "dfb8fc5f",
   "metadata": {},
   "outputs": [],
   "source": [
    "l1=[i*i for i in l]"
   ]
  },
  {
   "cell_type": "code",
   "execution_count": 6,
   "id": "d8d85d0b",
   "metadata": {},
   "outputs": [
    {
     "data": {
      "text/plain": [
       "[4, 9, 16, 25]"
      ]
     },
     "execution_count": 6,
     "metadata": {},
     "output_type": "execute_result"
    }
   ],
   "source": [
    "l1"
   ]
  },
  {
   "cell_type": "markdown",
   "id": "52f4614e",
   "metadata": {},
   "source": [
    "### [true_expression if condition else false_expression  for item in iterable]"
   ]
  },
  {
   "cell_type": "code",
   "execution_count": 7,
   "id": "0af48d14",
   "metadata": {},
   "outputs": [],
   "source": [
    "l=[89,32,-2,45,95,43]\n",
    "l1=['small' if i<25 else 'large' for i in l]"
   ]
  },
  {
   "cell_type": "code",
   "execution_count": 8,
   "id": "293fada1",
   "metadata": {},
   "outputs": [
    {
     "data": {
      "text/plain": [
       "['large', 'large', 'small', 'large', 'large', 'large']"
      ]
     },
     "execution_count": 8,
     "metadata": {},
     "output_type": "execute_result"
    }
   ],
   "source": [
    "l1"
   ]
  },
  {
   "cell_type": "code",
   "execution_count": null,
   "id": "99bd2191",
   "metadata": {},
   "outputs": [],
   "source": []
  }
 ],
 "metadata": {
  "kernelspec": {
   "display_name": "Python 3 (ipykernel)",
   "language": "python",
   "name": "python3"
  },
  "language_info": {
   "codemirror_mode": {
    "name": "ipython",
    "version": 3
   },
   "file_extension": ".py",
   "mimetype": "text/x-python",
   "name": "python",
   "nbconvert_exporter": "python",
   "pygments_lexer": "ipython3",
   "version": "3.11.5"
  }
 },
 "nbformat": 4,
 "nbformat_minor": 5
}

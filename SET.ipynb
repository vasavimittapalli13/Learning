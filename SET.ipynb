{
 "cells": [
  {
   "cell_type": "markdown",
   "id": "3cd387cb",
   "metadata": {},
   "source": [
    "### *`SET`*"
   ]
  },
  {
   "cell_type": "markdown",
   "id": "969d4061",
   "metadata": {},
   "source": [
    "- sets are unordered \n",
    "- mutable\n",
    "- no duplicates allowed\n",
    "- sets are created using {}.Items in sets are separated by commas.\n",
    "- empty set is created by using set() constructor. Empty set cannot be created using {}. It is used for empty dictionary.\n"
   ]
  },
  {
   "cell_type": "code",
   "execution_count": 1,
   "id": "8e4f12c9",
   "metadata": {},
   "outputs": [
    {
     "data": {
      "text/plain": [
       "set()"
      ]
     },
     "execution_count": 1,
     "metadata": {},
     "output_type": "execute_result"
    }
   ],
   "source": [
    "s=set()\n",
    "s"
   ]
  },
  {
   "cell_type": "code",
   "execution_count": 2,
   "id": "8d93f7b1",
   "metadata": {},
   "outputs": [
    {
     "data": {
      "text/plain": [
       "set"
      ]
     },
     "execution_count": 2,
     "metadata": {},
     "output_type": "execute_result"
    }
   ],
   "source": [
    "type(s)"
   ]
  },
  {
   "cell_type": "code",
   "execution_count": 4,
   "id": "b1163589",
   "metadata": {},
   "outputs": [
    {
     "data": {
      "text/plain": [
       "dict"
      ]
     },
     "execution_count": 4,
     "metadata": {},
     "output_type": "execute_result"
    }
   ],
   "source": [
    "e_s={}  #it is used to create a emptyy dictionary not set.set is created using set() constructor.\n",
    "type(e_s)"
   ]
  },
  {
   "cell_type": "code",
   "execution_count": 6,
   "id": "2c1b51a9",
   "metadata": {},
   "outputs": [
    {
     "data": {
      "text/plain": [
       "{2.8, 5, 6.9, True, 'vasavi'}"
      ]
     },
     "execution_count": 6,
     "metadata": {},
     "output_type": "execute_result"
    }
   ],
   "source": [
    "s={2.8,5,'vasavi',6.9,True}\n",
    "s"
   ]
  },
  {
   "cell_type": "code",
   "execution_count": 9,
   "id": "737a0608",
   "metadata": {},
   "outputs": [
    {
     "data": {
      "text/plain": [
       "{1, 2, 3}"
      ]
     },
     "execution_count": 9,
     "metadata": {},
     "output_type": "execute_result"
    }
   ],
   "source": [
    "s={1,2,3,1,2,3,1,2,3}\n",
    "s"
   ]
  },
  {
   "cell_type": "markdown",
   "id": "494e6e59",
   "metadata": {},
   "source": [
    "#### Properties"
   ]
  },
  {
   "cell_type": "markdown",
   "id": "99e74d4b",
   "metadata": {},
   "source": [
    "- Unordered\n",
    "- Not Indexable\n",
    "- Not allow duplicate values\n",
    "- mutable\n",
    "- Dynamic Sizing"
   ]
  },
  {
   "cell_type": "markdown",
   "id": "95a54b10",
   "metadata": {},
   "source": [
    "### Immutable - Int, Float, Str, Tuple\n",
    "### Mutable - List, Set, Dictinary"
   ]
  },
  {
   "cell_type": "markdown",
   "id": "b3cf14de",
   "metadata": {},
   "source": [
    "### Hashability - Data Types which do not change it's size over it's lifetime is hashable.\n",
    "\n",
    "### Immutable type - Hashable\n",
    "### Mutable type - Unhashable"
   ]
  },
  {
   "cell_type": "markdown",
   "id": "b8aeffb4",
   "metadata": {},
   "source": [
    "Sets are faster removal of data because of hashability. \n",
    "All items in sets are should be immutable"
   ]
  },
  {
   "cell_type": "code",
   "execution_count": 12,
   "id": "608869ac",
   "metadata": {},
   "outputs": [],
   "source": [
    "s={1,3.5,'Hello'}"
   ]
  },
  {
   "cell_type": "code",
   "execution_count": 13,
   "id": "779db4c4",
   "metadata": {},
   "outputs": [
    {
     "data": {
      "text/plain": [
       "{1, 3.5, 'Hello'}"
      ]
     },
     "execution_count": 13,
     "metadata": {},
     "output_type": "execute_result"
    }
   ],
   "source": [
    "s"
   ]
  },
  {
   "cell_type": "markdown",
   "id": "722e1003",
   "metadata": {},
   "source": [
    "##### add\n",
    "\n",
    "to add the elements to a set"
   ]
  },
  {
   "cell_type": "code",
   "execution_count": 28,
   "id": "761bc369",
   "metadata": {},
   "outputs": [],
   "source": [
    "s.add(6)"
   ]
  },
  {
   "cell_type": "code",
   "execution_count": 29,
   "id": "dad3a286",
   "metadata": {},
   "outputs": [
    {
     "ename": "TypeError",
     "evalue": "unhashable type: 'list'",
     "output_type": "error",
     "traceback": [
      "\u001b[1;31m---------------------------------------------------------------------------\u001b[0m",
      "\u001b[1;31mTypeError\u001b[0m                                 Traceback (most recent call last)",
      "Cell \u001b[1;32mIn[29], line 1\u001b[0m\n\u001b[1;32m----> 1\u001b[0m s\u001b[38;5;241m.\u001b[39madd([\u001b[38;5;241m1\u001b[39m,\u001b[38;5;241m2\u001b[39m])\n",
      "\u001b[1;31mTypeError\u001b[0m: unhashable type: 'list'"
     ]
    }
   ],
   "source": [
    "s.add([1,2])"
   ]
  },
  {
   "cell_type": "code",
   "execution_count": 30,
   "id": "1c590bdc",
   "metadata": {},
   "outputs": [
    {
     "data": {
      "text/plain": [
       "{5, 6, 7, 'Hello'}"
      ]
     },
     "execution_count": 30,
     "metadata": {},
     "output_type": "execute_result"
    }
   ],
   "source": [
    "s"
   ]
  },
  {
   "cell_type": "markdown",
   "id": "ddcdda5a",
   "metadata": {},
   "source": [
    "##### Update\n",
    "\n",
    "We can add multiple elements."
   ]
  },
  {
   "cell_type": "code",
   "execution_count": 16,
   "id": "2c6ff9af",
   "metadata": {},
   "outputs": [
    {
     "data": {
      "text/plain": [
       "{1, 3, 3.5, 5, 7, 'Hello'}"
      ]
     },
     "execution_count": 16,
     "metadata": {},
     "output_type": "execute_result"
    }
   ],
   "source": [
    "s.update([5,7,3])\n",
    "s"
   ]
  },
  {
   "cell_type": "code",
   "execution_count": 17,
   "id": "a0b0f4a1",
   "metadata": {},
   "outputs": [
    {
     "data": {
      "text/plain": [
       "6"
      ]
     },
     "execution_count": 17,
     "metadata": {},
     "output_type": "execute_result"
    }
   ],
   "source": [
    "len(s)"
   ]
  },
  {
   "cell_type": "markdown",
   "id": "bda7cc4d",
   "metadata": {},
   "source": [
    "##### remove()\n",
    "Remove will remove the value from the set if the value exists, if not\n",
    "it generates error"
   ]
  },
  {
   "cell_type": "code",
   "execution_count": 33,
   "id": "ecfaa7ee",
   "metadata": {},
   "outputs": [],
   "source": [
    "s={2,8,4,9,3,6,2,4,0}\n",
    "s.remove(2)"
   ]
  },
  {
   "cell_type": "code",
   "execution_count": 34,
   "id": "fc8c5b47",
   "metadata": {},
   "outputs": [
    {
     "data": {
      "text/plain": [
       "{0, 3, 4, 6, 8, 9}"
      ]
     },
     "execution_count": 34,
     "metadata": {},
     "output_type": "execute_result"
    }
   ],
   "source": [
    "s"
   ]
  },
  {
   "cell_type": "code",
   "execution_count": 35,
   "id": "00857ab3",
   "metadata": {},
   "outputs": [
    {
     "ename": "KeyError",
     "evalue": "10",
     "output_type": "error",
     "traceback": [
      "\u001b[1;31m---------------------------------------------------------------------------\u001b[0m",
      "\u001b[1;31mKeyError\u001b[0m                                  Traceback (most recent call last)",
      "Cell \u001b[1;32mIn[35], line 1\u001b[0m\n\u001b[1;32m----> 1\u001b[0m s\u001b[38;5;241m.\u001b[39mremove(\u001b[38;5;241m10\u001b[39m)\n",
      "\u001b[1;31mKeyError\u001b[0m: 10"
     ]
    }
   ],
   "source": [
    "s.remove(10)"
   ]
  },
  {
   "cell_type": "markdown",
   "id": "09e3fe2c",
   "metadata": {},
   "source": [
    "##### Discard\n",
    "\n",
    "it will not throw any error.if the value does not exist."
   ]
  },
  {
   "cell_type": "code",
   "execution_count": 36,
   "id": "868282ed",
   "metadata": {},
   "outputs": [],
   "source": [
    "s.discard(3)"
   ]
  },
  {
   "cell_type": "code",
   "execution_count": 37,
   "id": "ebc7df6b",
   "metadata": {},
   "outputs": [
    {
     "data": {
      "text/plain": [
       "{0, 4, 6, 8, 9}"
      ]
     },
     "execution_count": 37,
     "metadata": {},
     "output_type": "execute_result"
    }
   ],
   "source": [
    "s"
   ]
  },
  {
   "cell_type": "code",
   "execution_count": 38,
   "id": "bd6509fe",
   "metadata": {},
   "outputs": [],
   "source": [
    "s.discard(2)"
   ]
  },
  {
   "cell_type": "code",
   "execution_count": 39,
   "id": "6f0ce429",
   "metadata": {},
   "outputs": [
    {
     "data": {
      "text/plain": [
       "{0, 4, 6, 8, 9}"
      ]
     },
     "execution_count": 39,
     "metadata": {},
     "output_type": "execute_result"
    }
   ],
   "source": [
    "s"
   ]
  },
  {
   "cell_type": "markdown",
   "id": "20ebbc87",
   "metadata": {},
   "source": [
    "##### pop\n",
    "\n",
    "deletes elements from set"
   ]
  },
  {
   "cell_type": "code",
   "execution_count": 25,
   "id": "af4ee98a",
   "metadata": {},
   "outputs": [
    {
     "data": {
      "text/plain": [
       "3.5"
      ]
     },
     "execution_count": 25,
     "metadata": {},
     "output_type": "execute_result"
    }
   ],
   "source": [
    "s.pop()"
   ]
  },
  {
   "cell_type": "code",
   "execution_count": 26,
   "id": "377968eb",
   "metadata": {},
   "outputs": [
    {
     "data": {
      "text/plain": [
       "{5, 7, 'Hello'}"
      ]
     },
     "execution_count": 26,
     "metadata": {},
     "output_type": "execute_result"
    }
   ],
   "source": [
    "s"
   ]
  },
  {
   "cell_type": "code",
   "execution_count": 32,
   "id": "c1f43c8e",
   "metadata": {},
   "outputs": [
    {
     "data": {
      "text/plain": [
       "{0, 2, 3, 4, 6, 8, 9}"
      ]
     },
     "execution_count": 32,
     "metadata": {},
     "output_type": "execute_result"
    }
   ],
   "source": [
    "s={2,8,4,9,3,6,2,4,0}\n",
    "s"
   ]
  },
  {
   "cell_type": "markdown",
   "id": "0c995f98",
   "metadata": {},
   "source": [
    "##### clear\n",
    "\n",
    "clears the set"
   ]
  },
  {
   "cell_type": "code",
   "execution_count": 40,
   "id": "3a6ab93c",
   "metadata": {},
   "outputs": [],
   "source": [
    "s.clear()"
   ]
  },
  {
   "cell_type": "code",
   "execution_count": 41,
   "id": "d0aa0da4",
   "metadata": {},
   "outputs": [
    {
     "data": {
      "text/plain": [
       "set()"
      ]
     },
     "execution_count": 41,
     "metadata": {},
     "output_type": "execute_result"
    }
   ],
   "source": [
    "s"
   ]
  },
  {
   "cell_type": "markdown",
   "id": "ead1531b",
   "metadata": {},
   "source": [
    "##### del\n",
    "\n",
    "del keyword deletes the set completely"
   ]
  },
  {
   "cell_type": "code",
   "execution_count": 42,
   "id": "5547be0e",
   "metadata": {},
   "outputs": [],
   "source": [
    "del(s)"
   ]
  },
  {
   "cell_type": "code",
   "execution_count": 43,
   "id": "924c2b7a",
   "metadata": {},
   "outputs": [
    {
     "ename": "NameError",
     "evalue": "name 's' is not defined",
     "output_type": "error",
     "traceback": [
      "\u001b[1;31m---------------------------------------------------------------------------\u001b[0m",
      "\u001b[1;31mNameError\u001b[0m                                 Traceback (most recent call last)",
      "Cell \u001b[1;32mIn[43], line 1\u001b[0m\n\u001b[1;32m----> 1\u001b[0m s\n",
      "\u001b[1;31mNameError\u001b[0m: name 's' is not defined"
     ]
    }
   ],
   "source": [
    "s"
   ]
  },
  {
   "cell_type": "code",
   "execution_count": 44,
   "id": "e3652d8d",
   "metadata": {},
   "outputs": [
    {
     "data": {
      "text/plain": [
       "{'a', 'b', 'c', 'd'}"
      ]
     },
     "execution_count": 44,
     "metadata": {},
     "output_type": "execute_result"
    }
   ],
   "source": [
    "s=set('abcd')\n",
    "s"
   ]
  },
  {
   "cell_type": "markdown",
   "id": "581396da",
   "metadata": {},
   "source": [
    "### SET OPERATIONS"
   ]
  },
  {
   "cell_type": "markdown",
   "id": "5adff9ba",
   "metadata": {},
   "source": [
    "1. union()\n",
    "2. intersection()\n",
    "3. difference()"
   ]
  },
  {
   "cell_type": "markdown",
   "id": "881640e9",
   "metadata": {},
   "source": [
    "##### union()"
   ]
  },
  {
   "cell_type": "code",
   "execution_count": 46,
   "id": "29df98c3",
   "metadata": {},
   "outputs": [
    {
     "data": {
      "text/plain": [
       "{1, 2, 4, 5, 6, 7, 8, 9}"
      ]
     },
     "execution_count": 46,
     "metadata": {},
     "output_type": "execute_result"
    }
   ],
   "source": [
    "s1 = {4,5,7,8,9}\n",
    "s2 = {7,8,6,2,1}\n",
    "\n",
    "s1|s2"
   ]
  },
  {
   "cell_type": "code",
   "execution_count": 47,
   "id": "45c78794",
   "metadata": {},
   "outputs": [
    {
     "data": {
      "text/plain": [
       "{1, 2, 4, 5, 6, 7, 8, 9}"
      ]
     },
     "execution_count": 47,
     "metadata": {},
     "output_type": "execute_result"
    }
   ],
   "source": [
    "s2|s1"
   ]
  },
  {
   "cell_type": "code",
   "execution_count": 48,
   "id": "d3d228d7",
   "metadata": {},
   "outputs": [
    {
     "data": {
      "text/plain": [
       "{1, 2, 4, 5, 6, 7, 8, 9}"
      ]
     },
     "execution_count": 48,
     "metadata": {},
     "output_type": "execute_result"
    }
   ],
   "source": [
    "s1.union(s2)"
   ]
  },
  {
   "cell_type": "code",
   "execution_count": 49,
   "id": "39427a05",
   "metadata": {},
   "outputs": [
    {
     "data": {
      "text/plain": [
       "{1, 2, 4, 5, 6, 7, 8, 9}"
      ]
     },
     "execution_count": 49,
     "metadata": {},
     "output_type": "execute_result"
    }
   ],
   "source": [
    "s2.union(s1)"
   ]
  },
  {
   "cell_type": "markdown",
   "id": "1fe9ceb9",
   "metadata": {},
   "source": [
    "##### Intersection"
   ]
  },
  {
   "cell_type": "code",
   "execution_count": 50,
   "id": "32e6d203",
   "metadata": {},
   "outputs": [],
   "source": [
    "s1 = {4,5,7,8,9}\n",
    "s2 = {7,8,6,2,1}"
   ]
  },
  {
   "cell_type": "code",
   "execution_count": 51,
   "id": "cd2a6703",
   "metadata": {},
   "outputs": [
    {
     "data": {
      "text/plain": [
       "{7, 8}"
      ]
     },
     "execution_count": 51,
     "metadata": {},
     "output_type": "execute_result"
    }
   ],
   "source": [
    "s1 &s2"
   ]
  },
  {
   "cell_type": "code",
   "execution_count": 52,
   "id": "18d128ae",
   "metadata": {},
   "outputs": [
    {
     "data": {
      "text/plain": [
       "{7, 8}"
      ]
     },
     "execution_count": 52,
     "metadata": {},
     "output_type": "execute_result"
    }
   ],
   "source": [
    "s2 & s1"
   ]
  },
  {
   "cell_type": "code",
   "execution_count": 53,
   "id": "8ee2f6e3",
   "metadata": {},
   "outputs": [
    {
     "data": {
      "text/plain": [
       "{7, 8}"
      ]
     },
     "execution_count": 53,
     "metadata": {},
     "output_type": "execute_result"
    }
   ],
   "source": [
    "s1.intersection(s2)"
   ]
  },
  {
   "cell_type": "code",
   "execution_count": 54,
   "id": "576debee",
   "metadata": {},
   "outputs": [
    {
     "data": {
      "text/plain": [
       "{7, 8}"
      ]
     },
     "execution_count": 54,
     "metadata": {},
     "output_type": "execute_result"
    }
   ],
   "source": [
    "s2.intersection(s1)"
   ]
  },
  {
   "cell_type": "markdown",
   "id": "0b5ae9f1",
   "metadata": {},
   "source": [
    "##### Difference"
   ]
  },
  {
   "cell_type": "code",
   "execution_count": 55,
   "id": "b7fd804c",
   "metadata": {},
   "outputs": [],
   "source": [
    "s1 = {4,5,7,8,9}\n",
    "s2 = {7,8,6,2,1}"
   ]
  },
  {
   "cell_type": "code",
   "execution_count": 56,
   "id": "3cdeca03",
   "metadata": {},
   "outputs": [
    {
     "data": {
      "text/plain": [
       "{4, 5, 9}"
      ]
     },
     "execution_count": 56,
     "metadata": {},
     "output_type": "execute_result"
    }
   ],
   "source": [
    "s1-s2"
   ]
  },
  {
   "cell_type": "code",
   "execution_count": 57,
   "id": "8af5b272",
   "metadata": {},
   "outputs": [
    {
     "data": {
      "text/plain": [
       "{1, 2, 6}"
      ]
     },
     "execution_count": 57,
     "metadata": {},
     "output_type": "execute_result"
    }
   ],
   "source": [
    "s2-s1"
   ]
  },
  {
   "cell_type": "code",
   "execution_count": 58,
   "id": "502095a5",
   "metadata": {},
   "outputs": [
    {
     "data": {
      "text/plain": [
       "{4, 5, 9}"
      ]
     },
     "execution_count": 58,
     "metadata": {},
     "output_type": "execute_result"
    }
   ],
   "source": [
    "s1.difference(s2)"
   ]
  },
  {
   "cell_type": "code",
   "execution_count": 59,
   "id": "73eda7d0",
   "metadata": {},
   "outputs": [
    {
     "data": {
      "text/plain": [
       "{1, 2, 6}"
      ]
     },
     "execution_count": 59,
     "metadata": {},
     "output_type": "execute_result"
    }
   ],
   "source": [
    "s2.difference(s1)"
   ]
  },
  {
   "cell_type": "markdown",
   "id": "6d196ebe",
   "metadata": {},
   "source": [
    "##### symmetric difference\n",
    "\n",
    "It prints the values of both the sets and eliminates the common elements from both the sets"
   ]
  },
  {
   "cell_type": "code",
   "execution_count": 60,
   "id": "9763193f",
   "metadata": {},
   "outputs": [],
   "source": [
    "s1 = {4,5,7,8,9}\n",
    "s2 = {7,8,6,2,1}"
   ]
  },
  {
   "cell_type": "code",
   "execution_count": 61,
   "id": "41dc5262",
   "metadata": {},
   "outputs": [
    {
     "data": {
      "text/plain": [
       "{1, 2, 4, 5, 6, 9}"
      ]
     },
     "execution_count": 61,
     "metadata": {},
     "output_type": "execute_result"
    }
   ],
   "source": [
    "s1^s2"
   ]
  },
  {
   "cell_type": "code",
   "execution_count": 62,
   "id": "6ebfcb3b",
   "metadata": {},
   "outputs": [
    {
     "data": {
      "text/plain": [
       "{1, 2, 4, 5, 6, 9}"
      ]
     },
     "execution_count": 62,
     "metadata": {},
     "output_type": "execute_result"
    }
   ],
   "source": [
    "s2^s1"
   ]
  },
  {
   "cell_type": "code",
   "execution_count": 63,
   "id": "fb9c4872",
   "metadata": {},
   "outputs": [
    {
     "data": {
      "text/plain": [
       "{1, 2, 4, 5, 6, 9}"
      ]
     },
     "execution_count": 63,
     "metadata": {},
     "output_type": "execute_result"
    }
   ],
   "source": [
    "s1.symmetric_difference(s2)"
   ]
  },
  {
   "cell_type": "code",
   "execution_count": 64,
   "id": "ad7c8e21",
   "metadata": {},
   "outputs": [
    {
     "data": {
      "text/plain": [
       "{1, 2, 4, 5, 6, 9}"
      ]
     },
     "execution_count": 64,
     "metadata": {},
     "output_type": "execute_result"
    }
   ],
   "source": [
    "s2.symmetric_difference(s1)"
   ]
  },
  {
   "cell_type": "code",
   "execution_count": 65,
   "id": "19114ec9",
   "metadata": {},
   "outputs": [
    {
     "data": {
      "text/plain": [
       "['__and__',\n",
       " '__class__',\n",
       " '__class_getitem__',\n",
       " '__contains__',\n",
       " '__delattr__',\n",
       " '__dir__',\n",
       " '__doc__',\n",
       " '__eq__',\n",
       " '__format__',\n",
       " '__ge__',\n",
       " '__getattribute__',\n",
       " '__getstate__',\n",
       " '__gt__',\n",
       " '__hash__',\n",
       " '__iand__',\n",
       " '__init__',\n",
       " '__init_subclass__',\n",
       " '__ior__',\n",
       " '__isub__',\n",
       " '__iter__',\n",
       " '__ixor__',\n",
       " '__le__',\n",
       " '__len__',\n",
       " '__lt__',\n",
       " '__ne__',\n",
       " '__new__',\n",
       " '__or__',\n",
       " '__rand__',\n",
       " '__reduce__',\n",
       " '__reduce_ex__',\n",
       " '__repr__',\n",
       " '__ror__',\n",
       " '__rsub__',\n",
       " '__rxor__',\n",
       " '__setattr__',\n",
       " '__sizeof__',\n",
       " '__str__',\n",
       " '__sub__',\n",
       " '__subclasshook__',\n",
       " '__xor__',\n",
       " 'add',\n",
       " 'clear',\n",
       " 'copy',\n",
       " 'difference',\n",
       " 'difference_update',\n",
       " 'discard',\n",
       " 'intersection',\n",
       " 'intersection_update',\n",
       " 'isdisjoint',\n",
       " 'issubset',\n",
       " 'issuperset',\n",
       " 'pop',\n",
       " 'remove',\n",
       " 'symmetric_difference',\n",
       " 'symmetric_difference_update',\n",
       " 'union',\n",
       " 'update']"
      ]
     },
     "execution_count": 65,
     "metadata": {},
     "output_type": "execute_result"
    }
   ],
   "source": [
    "dir(set)"
   ]
  },
  {
   "cell_type": "code",
   "execution_count": null,
   "id": "20dbb71f",
   "metadata": {},
   "outputs": [],
   "source": []
  }
 ],
 "metadata": {
  "kernelspec": {
   "display_name": "Python 3 (ipykernel)",
   "language": "python",
   "name": "python3"
  },
  "language_info": {
   "codemirror_mode": {
    "name": "ipython",
    "version": 3
   },
   "file_extension": ".py",
   "mimetype": "text/x-python",
   "name": "python",
   "nbconvert_exporter": "python",
   "pygments_lexer": "ipython3",
   "version": "3.11.5"
  }
 },
 "nbformat": 4,
 "nbformat_minor": 5
}

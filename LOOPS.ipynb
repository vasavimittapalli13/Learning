{
 "cells": [
  {
   "cell_type": "markdown",
   "id": "8d095494",
   "metadata": {},
   "source": [
    "### Looping\n",
    "\n",
    "- For\n",
    "- While"
   ]
  },
  {
   "cell_type": "markdown",
   "id": "6ed5dd4e",
   "metadata": {},
   "source": [
    "\n",
    "## For Loop\n",
    "\n",
    "The for statement in Python supports repeated execution of a statement or block of statements that is controlled by an iterable expression.\n",
    "\n",
    "    for target in iterable:\n",
    "      statement(s)\n",
    "      \n",
    "Note that the in keyword is part of the syntax of the for statement and is functionally unrelated to the in operator used for membership testing.      \n",
    "\n",
    "\n",
    "###### For loop is used to iterate over a sequence (list, tuple, string) or other iterable objects. loop continues until it reaches the last item in the sequence / iterable.  Iterating over a sequence is called traversal"
   ]
  },
  {
   "cell_type": "code",
   "execution_count": 6,
   "id": "8e168c94",
   "metadata": {},
   "outputs": [
    {
     "name": "stdout",
     "output_type": "stream",
     "text": [
      "1\n",
      "2\n",
      "3\n",
      "4\n",
      "5\n",
      "6\n",
      "7\n",
      "8\n",
      "9\n"
     ]
    }
   ],
   "source": [
    "for i in range(1,10):\n",
    "    print(i)"
   ]
  },
  {
   "cell_type": "code",
   "execution_count": 7,
   "id": "6c987372",
   "metadata": {},
   "outputs": [
    {
     "name": "stdout",
     "output_type": "stream",
     "text": [
      "0\n",
      "1\n",
      "2\n",
      "3\n",
      "4\n",
      "5\n",
      "6\n",
      "7\n",
      "8\n",
      "9\n"
     ]
    }
   ],
   "source": [
    "for i in range(10):\n",
    "    print(i)"
   ]
  },
  {
   "cell_type": "code",
   "execution_count": 1,
   "id": "c5951314",
   "metadata": {},
   "outputs": [
    {
     "name": "stdout",
     "output_type": "stream",
     "text": [
      "Fail\n",
      "Pass\n",
      "Fail\n",
      "Pass\n",
      "Pass\n",
      "Pass\n",
      "Pass\n",
      "Pass\n"
     ]
    }
   ],
   "source": [
    "l=[35,68,24,69,76,80,89,93]\n",
    "for i in l:\n",
    "    if i>35:\n",
    "        print('Pass')\n",
    "    else:\n",
    "        print('Fail')"
   ]
  },
  {
   "cell_type": "code",
   "execution_count": 3,
   "id": "2ac13dd1",
   "metadata": {},
   "outputs": [
    {
     "name": "stdout",
     "output_type": "stream",
     "text": [
      "35 Odd\n",
      "68 Even\n",
      "24 Even\n",
      "69 Odd\n",
      "76 Even\n",
      "80 Even\n",
      "89 Odd\n",
      "93 Odd\n"
     ]
    }
   ],
   "source": [
    "for i in l:\n",
    "    if i%2==0:\n",
    "        print(i,'Even')\n",
    "    else:\n",
    "        print(i,'Odd')"
   ]
  },
  {
   "cell_type": "code",
   "execution_count": 5,
   "id": "2afb79a7",
   "metadata": {},
   "outputs": [
    {
     "name": "stdout",
     "output_type": "stream",
     "text": [
      "['Odd', 'even', 'even', 'Odd', 'even', 'even', 'Odd', 'Odd']\n"
     ]
    }
   ],
   "source": [
    "l=[35,68,24,69,76,80,89,93]\n",
    "l1=[]\n",
    "for i in l:\n",
    "    if i%2==0:\n",
    "        l1.append('even')\n",
    "    else:\n",
    "        l1.append('Odd')\n",
    "print(l1)"
   ]
  },
  {
   "cell_type": "code",
   "execution_count": 3,
   "id": "c5d6fa41",
   "metadata": {},
   "outputs": [
    {
     "name": "stdout",
     "output_type": "stream",
     "text": [
      "35\n",
      "73\n",
      "95\n"
     ]
    }
   ],
   "source": [
    "l1=[35,73,95,62,74]\n",
    "for i in l1:\n",
    "    if i%2==0:\n",
    "        break\n",
    "    print(i)"
   ]
  },
  {
   "cell_type": "code",
   "execution_count": 4,
   "id": "b668064d",
   "metadata": {},
   "outputs": [
    {
     "name": "stdout",
     "output_type": "stream",
     "text": [
      "6\n",
      "38\n"
     ]
    }
   ],
   "source": [
    "l2=[6,38,-5,86,-6]\n",
    "for i in l2:\n",
    "    if i<0:\n",
    "        break\n",
    "    print(i)\n",
    "    "
   ]
  },
  {
   "cell_type": "code",
   "execution_count": 7,
   "id": "e4a8ec89",
   "metadata": {},
   "outputs": [
    {
     "name": "stdout",
     "output_type": "stream",
     "text": [
      "6\n",
      "38\n"
     ]
    }
   ],
   "source": [
    "l2=[6,38,-5,86,-6]\n",
    "i=0\n",
    "while range(len(l2)):\n",
    "    if l2[i]<0:\n",
    "        break\n",
    "    print(l2[i])\n",
    "    i=i+1"
   ]
  },
  {
   "cell_type": "code",
   "execution_count": 8,
   "id": "91a7620e",
   "metadata": {},
   "outputs": [
    {
     "name": "stdout",
     "output_type": "stream",
     "text": [
      "35\n",
      "73\n",
      "95\n"
     ]
    }
   ],
   "source": [
    "l1=[35,73,95,62,74]\n",
    "for i in l1:\n",
    "    if i%2==0:\n",
    "        continue\n",
    "    print(i)"
   ]
  },
  {
   "cell_type": "code",
   "execution_count": 10,
   "id": "1125efae",
   "metadata": {},
   "outputs": [
    {
     "name": "stdout",
     "output_type": "stream",
     "text": [
      "35\n",
      "73\n",
      "95\n"
     ]
    }
   ],
   "source": [
    "l1=[35,73,95,62,74]\n",
    "for i in l1:\n",
    "    if i%2==0:\n",
    "        continue\n",
    "    print(i)\n",
    "       "
   ]
  },
  {
   "cell_type": "code",
   "execution_count": 11,
   "id": "fe8a5354",
   "metadata": {},
   "outputs": [
    {
     "name": "stdout",
     "output_type": "stream",
     "text": [
      "-5\n",
      "-6\n"
     ]
    }
   ],
   "source": [
    "l2=[6,38,-5,86,-6]\n",
    "for i in l2:\n",
    "    if i>0:\n",
    "        continue\n",
    "    print(i)"
   ]
  },
  {
   "cell_type": "markdown",
   "id": "fd70ed72",
   "metadata": {},
   "source": [
    "# While\n",
    "\n",
    "The while statement in Python supports repeated execution of a statement or block of statements that is controlled by a conditional expression.\n",
    "\n",
    "count = 0\n",
    "while x > 0:\n",
    "  x = x / 2            \n",
    "  count += 1\n",
    "First, expression, which is known as the loop condition, is evaluated. If the condition is false, the while statement ends. If the loop condition is satisfied, the statement or statements that comprise the loop body are executed. When the loop body finishes executing, the loop condition is evaluated again, to see if another iteration should be performed. This process continues until the loop condition is false, at which point the while statement ends.\n",
    "\n",
    "The loop body should contain code that eventually makes the loop condition false, or the loop will never end unless an exception is raised or the loop body executes a break statement. A loop that is in a function’s body also ends if a return statement executes in the loop body, as the whole function ends in this case.\n",
    "\n",
    "The while loop in python is used to run a block of code as long as the condition being checked for is True\n",
    "\n",
    "Syntax:\n",
    "\n",
    "while condition:\n",
    "\n",
    "    block_of_code\n",
    "\n",
    "\n",
    "eg :i = i + 1 => i += 1\n",
    "\n",
    "\n",
    "\n",
    "##### while loop executes on the body of the loop as long as the given condition is true. \n",
    "##### while loop is used to iterate over a block of code as long as the given condition is true. Once the given condition become false, the while loop terminates."
   ]
  },
  {
   "cell_type": "code",
   "execution_count": 13,
   "id": "119c181d",
   "metadata": {},
   "outputs": [
    {
     "name": "stdout",
     "output_type": "stream",
     "text": [
      "55\n"
     ]
    }
   ],
   "source": [
    "n=10\n",
    "i=1\n",
    "sum=0\n",
    "while i<=n:\n",
    "    sum=sum+i\n",
    "    i=i+1\n",
    "print(sum)\n",
    "    "
   ]
  },
  {
   "cell_type": "code",
   "execution_count": 1,
   "id": "eaff8c29",
   "metadata": {},
   "outputs": [
    {
     "name": "stdout",
     "output_type": "stream",
     "text": [
      "30\n",
      "25\n"
     ]
    }
   ],
   "source": [
    "n=10\n",
    "i=1\n",
    "even=0\n",
    "odd=0\n",
    "while i<=n:\n",
    "    if i%2==0:\n",
    "        even=even+i\n",
    "        i=i+1\n",
    "    else:\n",
    "        odd=odd+i\n",
    "        i=i+1\n",
    "print(even)\n",
    "print(odd)\n",
    "     \n"
   ]
  },
  {
   "cell_type": "code",
   "execution_count": 4,
   "id": "57c6c165",
   "metadata": {},
   "outputs": [
    {
     "name": "stdout",
     "output_type": "stream",
     "text": [
      "0\n",
      "2\n",
      "4\n",
      "6\n",
      "8\n",
      "10\n",
      "12\n",
      "14\n",
      "16\n",
      "18\n"
     ]
    }
   ],
   "source": [
    "n=20\n",
    "i=0\n",
    "while i<n:\n",
    "    if i%2==0:\n",
    "\n",
    "        print(i)\n",
    "    i=i+1\n",
    "        "
   ]
  },
  {
   "cell_type": "code",
   "execution_count": null,
   "id": "79dc25ad",
   "metadata": {},
   "outputs": [],
   "source": []
  }
 ],
 "metadata": {
  "kernelspec": {
   "display_name": "Python 3 (ipykernel)",
   "language": "python",
   "name": "python3"
  },
  "language_info": {
   "codemirror_mode": {
    "name": "ipython",
    "version": 3
   },
   "file_extension": ".py",
   "mimetype": "text/x-python",
   "name": "python",
   "nbconvert_exporter": "python",
   "pygments_lexer": "ipython3",
   "version": "3.11.5"
  }
 },
 "nbformat": 4,
 "nbformat_minor": 5
}
